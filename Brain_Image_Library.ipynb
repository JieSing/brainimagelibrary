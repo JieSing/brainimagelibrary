{
  "cells": [
    {
      "cell_type": "markdown",
      "id": "e2f41e84-896c-4a4a-bc4f-2d1fca75b8c5",
      "metadata": {
        "id": "e2f41e84-896c-4a4a-bc4f-2d1fca75b8c5"
      },
      "source": [
        "# Brain Image Library\n",
        "\n",
        "Name: Jie SIng Yoo\n",
        "\n",
        "Andrew ID: jiesingy\n",
        "\n",
        "* You can work in groups, it is highly encouraged. Basic divide-and-conquer.\n",
        "* But each of you will have to submit your notebook and data on Canvas.\n",
        "\n",
        "You have been given access to a database where you can pull information from one table. The purpose of this exercise is to\n",
        "\n",
        "* clean the local copy of the table\n",
        "* compute some basic information about the files in the table\n",
        "* add these features to the table\n",
        "* use the original raw data to create a second table\n",
        "* use these 2 tables to make some pretty plots\n",
        "\n",
        "In theory, the file and dataset level features you will be computing in this exercise will be stored in a database and used for a dashboard."
      ]
    },
    {
      "cell_type": "markdown",
      "id": "b11a9189-6ea9-45b0-8277-88ca4e17ca0f",
      "metadata": {
        "id": "b11a9189-6ea9-45b0-8277-88ca4e17ca0f"
      },
      "source": [
        "## Exercise 1\n",
        "a. The variable `file` belows points to a CSV file with the file informations. Load the table into the workspace using Pandas or Dask.\n",
        "\n",
        "**Hint**\n",
        "If you use Pandas, set `low_memory` to `False`. For more info click [here](https://stackoverflow.com/questions/58551446/how-to-set-low-memory-to-false)."
      ]
    },
    {
      "cell_type": "code",
      "execution_count": null,
      "id": "63b2ad82-79a1-4913-9340-80a0cd11acd6",
      "metadata": {
        "id": "63b2ad82-79a1-4913-9340-80a0cd11acd6"
      },
      "outputs": [],
      "source": [
        "import numpy as np\n",
        "import pandas as pd\n",
        "import requests\n",
        "import json\n",
        "import seaborn as sns\n",
        "import matplotlib.pyplot as plt\n",
        "import time\n",
        "import datetime\n",
        "import os\n",
        "import subprocess\n",
        "from pathlib import Path\n",
        "from tqdm.notebook import tqdm_notebook as tqdm\n",
        "tqdm.pandas()"
      ]
    },
    {
      "cell_type": "code",
      "execution_count": null,
      "id": "517f0557-ec0c-4fb1-aa19-2eb45eeb919c",
      "metadata": {
        "colab": {
          "base_uri": "https://localhost:8080/",
          "height": 305
        },
        "id": "517f0557-ec0c-4fb1-aa19-2eb45eeb919c",
        "outputId": "11a00151-a713-4496-876a-1a8fcfcd887c"
      },
      "outputs": [
        {
          "output_type": "execute_result",
          "data": {
            "text/plain": [
              "   dataset_uuid     collection_id dataset_id sample_id  \\\n",
              "0           NaN  009c1e6fcc03ebac    UNKNOWN    190895   \n",
              "1           NaN  009c1e6fcc03ebac    UNKNOWN    190895   \n",
              "2           NaN  009c1e6fcc03ebac    UNKNOWN    190895   \n",
              "3           NaN  009c1e6fcc03ebac    UNKNOWN    191178   \n",
              "4           NaN  009c1e6fcc03ebac    UNKNOWN    190896   \n",
              "\n",
              "                                           directory  \\\n",
              "0  /bil/data/00/9c/009c1e6fcc03ebac/mouseID_19022...   \n",
              "1  /bil/data/00/9c/009c1e6fcc03ebac/mouseID_19022...   \n",
              "2  /bil/data/00/9c/009c1e6fcc03ebac/mouseID_19022...   \n",
              "3  /bil/data/00/9c/009c1e6fcc03ebac/mouseID_19032...   \n",
              "4  /bil/data/00/9c/009c1e6fcc03ebac/mouseID_19022...   \n",
              "\n",
              "                                            filepath  \\\n",
              "0  /bil/data/00/9c/009c1e6fcc03ebac/mouseID_19022...   \n",
              "1  /bil/data/00/9c/009c1e6fcc03ebac/mouseID_19022...   \n",
              "2  /bil/data/00/9c/009c1e6fcc03ebac/mouseID_19022...   \n",
              "3  /bil/data/00/9c/009c1e6fcc03ebac/mouseID_19032...   \n",
              "4  /bil/data/00/9c/009c1e6fcc03ebac/mouseID_19022...   \n",
              "\n",
              "                             filename file_extension  file_size  \\\n",
              "0                 190895-metainfo.txt           .txt      693.0   \n",
              "1                         190895.json          .json      534.0   \n",
              "2  xxhash_dat_mouseID_19022522-190895            NaN  1071128.0   \n",
              "3  xxhash_dat_mouseID_19032517-191178            NaN  1096722.0   \n",
              "4                         190896.json          .json      534.0   \n",
              "\n",
              "   file_creation_date                                             sha256  \\\n",
              "0  2019-12-0503:26:25  2f83f9da49a4fc59b80b9185207055832653ddf51117e3...   \n",
              "1  2019-12-0503:27:38  55b2e61954ae32118f7d923a710489b0355123142579b9...   \n",
              "2  2019-12-0408:54:50  906545fa0dead8e6a5496ba803e9acd2a2d439b66db691...   \n",
              "3  2020-06-2907:43:20  c4e07196782566e7773f69b1eba310492c2bd5355a273f...   \n",
              "4  2020-06-2204:21:19  cbca27551e57bba24c13aff4f8344614b5ff95fb2ac7c0...   \n",
              "\n",
              "                                md5 xxh128  \n",
              "0  aae6752c964e56146934fef4e2e21491   None  \n",
              "1  2704360b304105e180fb08ef06d1a52b   None  \n",
              "2  fa2aaf565457ed5d5701d22d59f54506   None  \n",
              "3  18758836aa7a3697dfcbc10ffc76dba2   None  \n",
              "4  dd486c5107c9ee689df7588eedf399f6   None  "
            ],
            "text/html": [
              "\n",
              "  <div id=\"df-dbf41e2b-c5fb-4dbb-9298-7b514e005a7a\">\n",
              "    <div class=\"colab-df-container\">\n",
              "      <div>\n",
              "<style scoped>\n",
              "    .dataframe tbody tr th:only-of-type {\n",
              "        vertical-align: middle;\n",
              "    }\n",
              "\n",
              "    .dataframe tbody tr th {\n",
              "        vertical-align: top;\n",
              "    }\n",
              "\n",
              "    .dataframe thead th {\n",
              "        text-align: right;\n",
              "    }\n",
              "</style>\n",
              "<table border=\"1\" class=\"dataframe\">\n",
              "  <thead>\n",
              "    <tr style=\"text-align: right;\">\n",
              "      <th></th>\n",
              "      <th>dataset_uuid</th>\n",
              "      <th>collection_id</th>\n",
              "      <th>dataset_id</th>\n",
              "      <th>sample_id</th>\n",
              "      <th>directory</th>\n",
              "      <th>filepath</th>\n",
              "      <th>filename</th>\n",
              "      <th>file_extension</th>\n",
              "      <th>file_size</th>\n",
              "      <th>file_creation_date</th>\n",
              "      <th>sha256</th>\n",
              "      <th>md5</th>\n",
              "      <th>xxh128</th>\n",
              "    </tr>\n",
              "  </thead>\n",
              "  <tbody>\n",
              "    <tr>\n",
              "      <th>0</th>\n",
              "      <td>NaN</td>\n",
              "      <td>009c1e6fcc03ebac</td>\n",
              "      <td>UNKNOWN</td>\n",
              "      <td>190895</td>\n",
              "      <td>/bil/data/00/9c/009c1e6fcc03ebac/mouseID_19022...</td>\n",
              "      <td>/bil/data/00/9c/009c1e6fcc03ebac/mouseID_19022...</td>\n",
              "      <td>190895-metainfo.txt</td>\n",
              "      <td>.txt</td>\n",
              "      <td>693.0</td>\n",
              "      <td>2019-12-0503:26:25</td>\n",
              "      <td>2f83f9da49a4fc59b80b9185207055832653ddf51117e3...</td>\n",
              "      <td>aae6752c964e56146934fef4e2e21491</td>\n",
              "      <td>None</td>\n",
              "    </tr>\n",
              "    <tr>\n",
              "      <th>1</th>\n",
              "      <td>NaN</td>\n",
              "      <td>009c1e6fcc03ebac</td>\n",
              "      <td>UNKNOWN</td>\n",
              "      <td>190895</td>\n",
              "      <td>/bil/data/00/9c/009c1e6fcc03ebac/mouseID_19022...</td>\n",
              "      <td>/bil/data/00/9c/009c1e6fcc03ebac/mouseID_19022...</td>\n",
              "      <td>190895.json</td>\n",
              "      <td>.json</td>\n",
              "      <td>534.0</td>\n",
              "      <td>2019-12-0503:27:38</td>\n",
              "      <td>55b2e61954ae32118f7d923a710489b0355123142579b9...</td>\n",
              "      <td>2704360b304105e180fb08ef06d1a52b</td>\n",
              "      <td>None</td>\n",
              "    </tr>\n",
              "    <tr>\n",
              "      <th>2</th>\n",
              "      <td>NaN</td>\n",
              "      <td>009c1e6fcc03ebac</td>\n",
              "      <td>UNKNOWN</td>\n",
              "      <td>190895</td>\n",
              "      <td>/bil/data/00/9c/009c1e6fcc03ebac/mouseID_19022...</td>\n",
              "      <td>/bil/data/00/9c/009c1e6fcc03ebac/mouseID_19022...</td>\n",
              "      <td>xxhash_dat_mouseID_19022522-190895</td>\n",
              "      <td>NaN</td>\n",
              "      <td>1071128.0</td>\n",
              "      <td>2019-12-0408:54:50</td>\n",
              "      <td>906545fa0dead8e6a5496ba803e9acd2a2d439b66db691...</td>\n",
              "      <td>fa2aaf565457ed5d5701d22d59f54506</td>\n",
              "      <td>None</td>\n",
              "    </tr>\n",
              "    <tr>\n",
              "      <th>3</th>\n",
              "      <td>NaN</td>\n",
              "      <td>009c1e6fcc03ebac</td>\n",
              "      <td>UNKNOWN</td>\n",
              "      <td>191178</td>\n",
              "      <td>/bil/data/00/9c/009c1e6fcc03ebac/mouseID_19032...</td>\n",
              "      <td>/bil/data/00/9c/009c1e6fcc03ebac/mouseID_19032...</td>\n",
              "      <td>xxhash_dat_mouseID_19032517-191178</td>\n",
              "      <td>NaN</td>\n",
              "      <td>1096722.0</td>\n",
              "      <td>2020-06-2907:43:20</td>\n",
              "      <td>c4e07196782566e7773f69b1eba310492c2bd5355a273f...</td>\n",
              "      <td>18758836aa7a3697dfcbc10ffc76dba2</td>\n",
              "      <td>None</td>\n",
              "    </tr>\n",
              "    <tr>\n",
              "      <th>4</th>\n",
              "      <td>NaN</td>\n",
              "      <td>009c1e6fcc03ebac</td>\n",
              "      <td>UNKNOWN</td>\n",
              "      <td>190896</td>\n",
              "      <td>/bil/data/00/9c/009c1e6fcc03ebac/mouseID_19022...</td>\n",
              "      <td>/bil/data/00/9c/009c1e6fcc03ebac/mouseID_19022...</td>\n",
              "      <td>190896.json</td>\n",
              "      <td>.json</td>\n",
              "      <td>534.0</td>\n",
              "      <td>2020-06-2204:21:19</td>\n",
              "      <td>cbca27551e57bba24c13aff4f8344614b5ff95fb2ac7c0...</td>\n",
              "      <td>dd486c5107c9ee689df7588eedf399f6</td>\n",
              "      <td>None</td>\n",
              "    </tr>\n",
              "  </tbody>\n",
              "</table>\n",
              "</div>\n",
              "      <button class=\"colab-df-convert\" onclick=\"convertToInteractive('df-dbf41e2b-c5fb-4dbb-9298-7b514e005a7a')\"\n",
              "              title=\"Convert this dataframe to an interactive table.\"\n",
              "              style=\"display:none;\">\n",
              "        \n",
              "  <svg xmlns=\"http://www.w3.org/2000/svg\" height=\"24px\"viewBox=\"0 0 24 24\"\n",
              "       width=\"24px\">\n",
              "    <path d=\"M0 0h24v24H0V0z\" fill=\"none\"/>\n",
              "    <path d=\"M18.56 5.44l.94 2.06.94-2.06 2.06-.94-2.06-.94-.94-2.06-.94 2.06-2.06.94zm-11 1L8.5 8.5l.94-2.06 2.06-.94-2.06-.94L8.5 2.5l-.94 2.06-2.06.94zm10 10l.94 2.06.94-2.06 2.06-.94-2.06-.94-.94-2.06-.94 2.06-2.06.94z\"/><path d=\"M17.41 7.96l-1.37-1.37c-.4-.4-.92-.59-1.43-.59-.52 0-1.04.2-1.43.59L10.3 9.45l-7.72 7.72c-.78.78-.78 2.05 0 2.83L4 21.41c.39.39.9.59 1.41.59.51 0 1.02-.2 1.41-.59l7.78-7.78 2.81-2.81c.8-.78.8-2.07 0-2.86zM5.41 20L4 18.59l7.72-7.72 1.47 1.35L5.41 20z\"/>\n",
              "  </svg>\n",
              "      </button>\n",
              "      \n",
              "  <style>\n",
              "    .colab-df-container {\n",
              "      display:flex;\n",
              "      flex-wrap:wrap;\n",
              "      gap: 12px;\n",
              "    }\n",
              "\n",
              "    .colab-df-convert {\n",
              "      background-color: #E8F0FE;\n",
              "      border: none;\n",
              "      border-radius: 50%;\n",
              "      cursor: pointer;\n",
              "      display: none;\n",
              "      fill: #1967D2;\n",
              "      height: 32px;\n",
              "      padding: 0 0 0 0;\n",
              "      width: 32px;\n",
              "    }\n",
              "\n",
              "    .colab-df-convert:hover {\n",
              "      background-color: #E2EBFA;\n",
              "      box-shadow: 0px 1px 2px rgba(60, 64, 67, 0.3), 0px 1px 3px 1px rgba(60, 64, 67, 0.15);\n",
              "      fill: #174EA6;\n",
              "    }\n",
              "\n",
              "    [theme=dark] .colab-df-convert {\n",
              "      background-color: #3B4455;\n",
              "      fill: #D2E3FC;\n",
              "    }\n",
              "\n",
              "    [theme=dark] .colab-df-convert:hover {\n",
              "      background-color: #434B5C;\n",
              "      box-shadow: 0px 1px 3px 1px rgba(0, 0, 0, 0.15);\n",
              "      filter: drop-shadow(0px 1px 2px rgba(0, 0, 0, 0.3));\n",
              "      fill: #FFFFFF;\n",
              "    }\n",
              "  </style>\n",
              "\n",
              "      <script>\n",
              "        const buttonEl =\n",
              "          document.querySelector('#df-dbf41e2b-c5fb-4dbb-9298-7b514e005a7a button.colab-df-convert');\n",
              "        buttonEl.style.display =\n",
              "          google.colab.kernel.accessAllowed ? 'block' : 'none';\n",
              "\n",
              "        async function convertToInteractive(key) {\n",
              "          const element = document.querySelector('#df-dbf41e2b-c5fb-4dbb-9298-7b514e005a7a');\n",
              "          const dataTable =\n",
              "            await google.colab.kernel.invokeFunction('convertToInteractive',\n",
              "                                                     [key], {});\n",
              "          if (!dataTable) return;\n",
              "\n",
              "          const docLinkHtml = 'Like what you see? Visit the ' +\n",
              "            '<a target=\"_blank\" href=https://colab.research.google.com/notebooks/data_table.ipynb>data table notebook</a>'\n",
              "            + ' to learn more about interactive tables.';\n",
              "          element.innerHTML = '';\n",
              "          dataTable['output_type'] = 'display_data';\n",
              "          await google.colab.output.renderOutput(dataTable, element);\n",
              "          const docLink = document.createElement('div');\n",
              "          docLink.innerHTML = docLinkHtml;\n",
              "          element.appendChild(docLink);\n",
              "        }\n",
              "      </script>\n",
              "    </div>\n",
              "  </div>\n",
              "  "
            ]
          },
          "metadata": {},
          "execution_count": 8
        }
      ],
      "source": [
        "# INSERT CODE HERE\n",
        "\n",
        "file = '/bil/workshops/2022/data-science/final_project_dataset.csv'\n",
        "df = pd.read_csv(file, header = 0, low_memory=False)\n",
        "df.head()"
      ]
    },
    {
      "cell_type": "code",
      "execution_count": null,
      "id": "39670db9-58a7-47c9-91cb-3d0e3efff8e9",
      "metadata": {
        "id": "39670db9-58a7-47c9-91cb-3d0e3efff8e9",
        "outputId": "e8140897-eb30-4013-c05b-659a7a984c5b"
      },
      "outputs": [
        {
          "name": "stdout",
          "output_type": "stream",
          "text": [
            "(2825872, 13)\n",
            "<class 'pandas.core.frame.DataFrame'>\n",
            "RangeIndex: 2825872 entries, 0 to 2825871\n",
            "Data columns (total 13 columns):\n",
            " #   Column              Dtype  \n",
            "---  ------              -----  \n",
            " 0   dataset_uuid        float64\n",
            " 1   collection_id       object \n",
            " 2   dataset_id          object \n",
            " 3   sample_id           object \n",
            " 4   directory           object \n",
            " 5   filepath            object \n",
            " 6   filename            object \n",
            " 7   file_extension      object \n",
            " 8   file_size           float64\n",
            " 9   file_creation_date  object \n",
            " 10  sha256              object \n",
            " 11  md5                 object \n",
            " 12  xxh128              object \n",
            "dtypes: float64(2), object(11)\n",
            "memory usage: 280.3+ MB\n"
          ]
        }
      ],
      "source": [
        "print(df.shape)\n",
        "df.info()"
      ]
    },
    {
      "cell_type": "markdown",
      "id": "029df5d5-0ada-4a05-818b-6429062b68b3",
      "metadata": {
        "id": "029df5d5-0ada-4a05-818b-6429062b68b3"
      },
      "source": [
        "b. Print the column names."
      ]
    },
    {
      "cell_type": "code",
      "execution_count": null,
      "id": "e73100a0-e9e2-4ed9-b5a2-b25b749a762d",
      "metadata": {
        "id": "e73100a0-e9e2-4ed9-b5a2-b25b749a762d",
        "outputId": "9a5dd128-a012-4c3e-ab0d-f2caaa81212d"
      },
      "outputs": [
        {
          "data": {
            "text/plain": [
              "Index(['dataset_uuid', 'collection_id', 'dataset_id', 'sample_id', 'directory',\n",
              "       'filepath', 'filename', 'file_extension', 'file_size',\n",
              "       'file_creation_date', 'sha256', 'md5', 'xxh128'],\n",
              "      dtype='object')"
            ]
          },
          "execution_count": 4,
          "metadata": {},
          "output_type": "execute_result"
        }
      ],
      "source": [
        "# INSERT CODE HERE\n",
        "df.columns"
      ]
    },
    {
      "cell_type": "markdown",
      "id": "fd0409de-6eaf-4239-876c-392056e32abe",
      "metadata": {
        "id": "fd0409de-6eaf-4239-876c-392056e32abe"
      },
      "source": [
        "c. This dataframe has one line per file in the file system. The data wrangler already included some file level statistics in the table. However before we can proceed adding more columns, we need to fix some things.\n",
        "\n",
        "For example, if you take a look at the file creation dates, these look like\n",
        "\n",
        "```\n",
        "df['file_creation_date'][0]\n",
        "'2019-12-0503:26:25'\n",
        "```\n",
        "\n",
        "when in fact these should look like \n",
        "\n",
        "```\n",
        "'2019-12-05 03:26:25'\n",
        "```\n",
        "\n",
        "First change the values in the column `file_creation_date` so the dates are correct.\n",
        "\n",
        "Second, change the data type of this series to be a `datetime` object.\n",
        "\n",
        "**Hint**\n",
        "* Add a whitespace."
      ]
    },
    {
      "cell_type": "code",
      "execution_count": null,
      "id": "ecc9a125-734b-454a-815b-45f7e2b8b8a7",
      "metadata": {
        "id": "ecc9a125-734b-454a-815b-45f7e2b8b8a7",
        "outputId": "265baa0a-27d0-4fa4-9b8d-be3f569644bf"
      },
      "outputs": [
        {
          "data": {
            "text/plain": [
              "2"
            ]
          },
          "execution_count": 5,
          "metadata": {},
          "output_type": "execute_result"
        }
      ],
      "source": [
        "df.file_creation_date.isnull().sum()\n",
        "#  this column has 2 null values"
      ]
    },
    {
      "cell_type": "code",
      "execution_count": null,
      "id": "86265b1a-e2e2-4e99-a832-d0fcdf34d073",
      "metadata": {
        "id": "86265b1a-e2e2-4e99-a832-d0fcdf34d073",
        "outputId": "8e4d73ea-128b-4d88-f8b4-a337bad51059"
      },
      "outputs": [
        {
          "data": {
            "text/html": [
              "<div>\n",
              "<style scoped>\n",
              "    .dataframe tbody tr th:only-of-type {\n",
              "        vertical-align: middle;\n",
              "    }\n",
              "\n",
              "    .dataframe tbody tr th {\n",
              "        vertical-align: top;\n",
              "    }\n",
              "\n",
              "    .dataframe thead th {\n",
              "        text-align: right;\n",
              "    }\n",
              "</style>\n",
              "<table border=\"1\" class=\"dataframe\">\n",
              "  <thead>\n",
              "    <tr style=\"text-align: right;\">\n",
              "      <th></th>\n",
              "      <th>dataset_uuid</th>\n",
              "      <th>collection_id</th>\n",
              "      <th>dataset_id</th>\n",
              "      <th>sample_id</th>\n",
              "      <th>directory</th>\n",
              "      <th>filepath</th>\n",
              "      <th>filename</th>\n",
              "      <th>file_extension</th>\n",
              "      <th>file_size</th>\n",
              "      <th>file_creation_date</th>\n",
              "      <th>sha256</th>\n",
              "      <th>md5</th>\n",
              "      <th>xxh128</th>\n",
              "    </tr>\n",
              "  </thead>\n",
              "  <tbody>\n",
              "    <tr>\n",
              "      <th>1470465</th>\n",
              "      <td>NaN</td>\n",
              "      <td>NaN</td>\n",
              "      <td>NaN</td>\n",
              "      <td>NaN</td>\n",
              "      <td>NaN</td>\n",
              "      <td>NaN</td>\n",
              "      <td>NaN</td>\n",
              "      <td>NaN</td>\n",
              "      <td>NaN</td>\n",
              "      <td>&lt;NA&gt;</td>\n",
              "      <td>NaN</td>\n",
              "      <td>NaN</td>\n",
              "      <td>NaN</td>\n",
              "    </tr>\n",
              "    <tr>\n",
              "      <th>1470467</th>\n",
              "      <td>NaN</td>\n",
              "      <td>NaN</td>\n",
              "      <td>NaN</td>\n",
              "      <td>NaN</td>\n",
              "      <td>NaN</td>\n",
              "      <td>NaN</td>\n",
              "      <td>NaN</td>\n",
              "      <td>NaN</td>\n",
              "      <td>NaN</td>\n",
              "      <td>&lt;NA&gt;</td>\n",
              "      <td>NaN</td>\n",
              "      <td>NaN</td>\n",
              "      <td>NaN</td>\n",
              "    </tr>\n",
              "  </tbody>\n",
              "</table>\n",
              "</div>"
            ],
            "text/plain": [
              "         dataset_uuid collection_id dataset_id sample_id directory filepath  \\\n",
              "1470465           NaN           NaN        NaN       NaN       NaN      NaN   \n",
              "1470467           NaN           NaN        NaN       NaN       NaN      NaN   \n",
              "\n",
              "        filename file_extension  file_size file_creation_date sha256  md5  \\\n",
              "1470465      NaN            NaN        NaN               <NA>    NaN  NaN   \n",
              "1470467      NaN            NaN        NaN               <NA>    NaN  NaN   \n",
              "\n",
              "        xxh128  \n",
              "1470465    NaN  \n",
              "1470467    NaN  "
            ]
          },
          "execution_count": 27,
          "metadata": {},
          "output_type": "execute_result"
        }
      ],
      "source": [
        "df[df['file_creation_date'].isna()]\n",
        "# drop the 2 rows as they both contain NaN values for all columns and not useful\n",
        "\n",
        "# df['file_creation_date'].map(type).value_counts(dropna=False)"
      ]
    },
    {
      "cell_type": "code",
      "execution_count": null,
      "id": "c44a62a2-8c22-45eb-96d7-19f3e5d459d8",
      "metadata": {
        "id": "c44a62a2-8c22-45eb-96d7-19f3e5d459d8"
      },
      "outputs": [],
      "source": [
        "df = df[df['file_creation_date'].notna()]\n",
        "df.reset_index(inplace=True)"
      ]
    },
    {
      "cell_type": "code",
      "execution_count": null,
      "id": "9db12f8a-c290-420d-b405-46da77dc2a07",
      "metadata": {
        "colab": {
          "referenced_widgets": [
            "51ec9d8441034cdb874bb27768e34ab1"
          ]
        },
        "id": "9db12f8a-c290-420d-b405-46da77dc2a07",
        "outputId": "da4449df-fa37-4337-a506-85a4a3c5ed1e"
      },
      "outputs": [
        {
          "data": {
            "application/vnd.jupyter.widget-view+json": {
              "model_id": "51ec9d8441034cdb874bb27768e34ab1",
              "version_major": 2,
              "version_minor": 0
            },
            "text/plain": [
              "  0%|          | 0/2825870 [00:00<?, ?it/s]"
            ]
          },
          "metadata": {},
          "output_type": "display_data"
        }
      ],
      "source": [
        "# INSERT CODE HERE\n",
        "# change the data type of this series to be a datetime object\n",
        "tqdm.pandas()\n",
        "df['file_creation_date'] = df['file_creation_date'].astype(\"string\")\n",
        "df['file_creation_date'] = pd.to_datetime(df.loc[:,'file_creation_date'].progress_apply(lambda t: t[:10] + ' ' + t[10:]),errors='coerce')"
      ]
    },
    {
      "cell_type": "markdown",
      "id": "1f829d4a-1032-420a-8f33-a288be5d15b6",
      "metadata": {
        "id": "1f829d4a-1032-420a-8f33-a288be5d15b6"
      },
      "source": [
        "d. The column `file_size` has the file size in bytes. Add a column named `human_readable_file_size` that is dtype string. This string representation of the file size should be an approximation to the nearest unit with one decimal point. For example, `15M`, `1.7G` and `5.6T`."
      ]
    },
    {
      "cell_type": "code",
      "execution_count": null,
      "id": "a015612b-5512-453a-8db4-f9d3e1eacb32",
      "metadata": {
        "id": "a015612b-5512-453a-8db4-f9d3e1eacb32",
        "outputId": "0ee86c4e-2af2-4a05-cb9e-fbca11309be1"
      },
      "outputs": [
        {
          "data": {
            "text/plain": [
              "0"
            ]
          },
          "execution_count": 6,
          "metadata": {},
          "output_type": "execute_result"
        }
      ],
      "source": [
        "df['file_size'].isnull().sum()"
      ]
    },
    {
      "cell_type": "code",
      "execution_count": null,
      "id": "336b48ef-579c-4b19-8c93-283fca6eaae4",
      "metadata": {
        "id": "336b48ef-579c-4b19-8c93-283fca6eaae4"
      },
      "outputs": [],
      "source": [
        "# INSERT CODE HERE\n",
        "def convert_filesize(size):\n",
        "    size_name = (\"B\", \"K\", \"M\", \"G\", \"T\", \"P\", \"E\", \"Z\", \"Y\")\n",
        "    i = 0\n",
        "    if size >= 1024:        \n",
        "        while size >= 1024:\n",
        "            size = size / 1024\n",
        "            i += 1\n",
        "            # print(size)\n",
        "    size = round(size,1)\n",
        "    return str(size)+str(size_name[i])"
      ]
    },
    {
      "cell_type": "code",
      "execution_count": null,
      "id": "a3c44f40-bccf-4841-998f-09cc98704aee",
      "metadata": {
        "colab": {
          "referenced_widgets": [
            "f9745f1a183042aa9f33596b6afe8623"
          ]
        },
        "id": "a3c44f40-bccf-4841-998f-09cc98704aee",
        "outputId": "1500cbae-09be-4d97-ce8c-27ee68e64009"
      },
      "outputs": [
        {
          "data": {
            "application/vnd.jupyter.widget-view+json": {
              "model_id": "f9745f1a183042aa9f33596b6afe8623",
              "version_major": 2,
              "version_minor": 0
            },
            "text/plain": [
              "  0%|          | 0/2825870 [00:00<?, ?it/s]"
            ]
          },
          "metadata": {},
          "output_type": "display_data"
        }
      ],
      "source": [
        "df['human_readable_file_size'] = df.progress_apply(lambda s: convert_filesize(s.file_size),axis=1)\n",
        "# s is classified as a series in pandas"
      ]
    },
    {
      "cell_type": "code",
      "execution_count": null,
      "id": "06f49de2-c181-40af-ab7f-40770aa80da9",
      "metadata": {
        "id": "06f49de2-c181-40af-ab7f-40770aa80da9",
        "outputId": "8048c897-055c-47fb-c6bf-dcf265e0e1ca"
      },
      "outputs": [
        {
          "data": {
            "text/html": [
              "<div>\n",
              "<style scoped>\n",
              "    .dataframe tbody tr th:only-of-type {\n",
              "        vertical-align: middle;\n",
              "    }\n",
              "\n",
              "    .dataframe tbody tr th {\n",
              "        vertical-align: top;\n",
              "    }\n",
              "\n",
              "    .dataframe thead th {\n",
              "        text-align: right;\n",
              "    }\n",
              "</style>\n",
              "<table border=\"1\" class=\"dataframe\">\n",
              "  <thead>\n",
              "    <tr style=\"text-align: right;\">\n",
              "      <th></th>\n",
              "      <th>dataset_uuid</th>\n",
              "      <th>collection_id</th>\n",
              "      <th>dataset_id</th>\n",
              "      <th>sample_id</th>\n",
              "      <th>directory</th>\n",
              "      <th>filepath</th>\n",
              "      <th>filename</th>\n",
              "      <th>file_extension</th>\n",
              "      <th>file_size</th>\n",
              "      <th>file_creation_date</th>\n",
              "      <th>sha256</th>\n",
              "      <th>md5</th>\n",
              "      <th>xxh128</th>\n",
              "      <th>human_readable_file_size</th>\n",
              "    </tr>\n",
              "  </thead>\n",
              "  <tbody>\n",
              "    <tr>\n",
              "      <th>2825868</th>\n",
              "      <td>NaN</td>\n",
              "      <td>009c1e6fcc03ebac</td>\n",
              "      <td>UNKNOWN</td>\n",
              "      <td>192870</td>\n",
              "      <td>/bil/data/00/9c/009c1e6fcc03ebac/mouseID_w1905...</td>\n",
              "      <td>/bil/data/00/9c/009c1e6fcc03ebac/mouseID_w1905...</td>\n",
              "      <td>192870_03928_CH1_resample.tif</td>\n",
              "      <td>.tif</td>\n",
              "      <td>4127021.0</td>\n",
              "      <td>2019-08-20 07:18:47</td>\n",
              "      <td>3bafec76445cefc9cbca6f9a3572032abe5bdff640386d...</td>\n",
              "      <td>78fea404674dce120bb9abc27dbe8ef3</td>\n",
              "      <td>None</td>\n",
              "      <td>3.9M</td>\n",
              "    </tr>\n",
              "    <tr>\n",
              "      <th>2825869</th>\n",
              "      <td>NaN</td>\n",
              "      <td>009c1e6fcc03ebac</td>\n",
              "      <td>UNKNOWN</td>\n",
              "      <td>192870</td>\n",
              "      <td>/bil/data/00/9c/009c1e6fcc03ebac/mouseID_w1905...</td>\n",
              "      <td>/bil/data/00/9c/009c1e6fcc03ebac/mouseID_w1905...</td>\n",
              "      <td>192870_06980_CH1_resample.tif</td>\n",
              "      <td>.tif</td>\n",
              "      <td>4897429.0</td>\n",
              "      <td>2019-08-20 08:56:03</td>\n",
              "      <td>9da049ab835813ffac994fc440e741253173f02e744394...</td>\n",
              "      <td>4b0b17b798017768cac9bc82dc6d40fd</td>\n",
              "      <td>None</td>\n",
              "      <td>4.7M</td>\n",
              "    </tr>\n",
              "    <tr>\n",
              "      <th>2825870</th>\n",
              "      <td>NaN</td>\n",
              "      <td>009c1e6fcc03ebac</td>\n",
              "      <td>UNKNOWN</td>\n",
              "      <td>192870</td>\n",
              "      <td>/bil/data/00/9c/009c1e6fcc03ebac/mouseID_w1905...</td>\n",
              "      <td>/bil/data/00/9c/009c1e6fcc03ebac/mouseID_w1905...</td>\n",
              "      <td>192870_07971_CH1_resample.tif</td>\n",
              "      <td>.tif</td>\n",
              "      <td>4718253.0</td>\n",
              "      <td>2019-08-20 09:19:10</td>\n",
              "      <td>9f7cd38d4cc8dba574fa352f145c519db6dd1d90e8efc5...</td>\n",
              "      <td>31bf67b4689a2e6b8debca6c7e1c6b22</td>\n",
              "      <td>None</td>\n",
              "      <td>4.5M</td>\n",
              "    </tr>\n",
              "    <tr>\n",
              "      <th>2825871</th>\n",
              "      <td>NaN</td>\n",
              "      <td>009c1e6fcc03ebac</td>\n",
              "      <td>UNKNOWN</td>\n",
              "      <td>192870</td>\n",
              "      <td>/bil/data/00/9c/009c1e6fcc03ebac/mouseID_w1905...</td>\n",
              "      <td>/bil/data/00/9c/009c1e6fcc03ebac/mouseID_w1905...</td>\n",
              "      <td>192870_06978_CH1_resample.tif</td>\n",
              "      <td>.tif</td>\n",
              "      <td>4896531.0</td>\n",
              "      <td>2019-08-20 09:21:56</td>\n",
              "      <td>593f0052150dab61e4f9386c3898361802a2156b3f26d6...</td>\n",
              "      <td>6a42441d43f41c38d0af1a6f7f04b7a1</td>\n",
              "      <td>None</td>\n",
              "      <td>4.7M</td>\n",
              "    </tr>\n",
              "  </tbody>\n",
              "</table>\n",
              "</div>"
            ],
            "text/plain": [
              "         dataset_uuid     collection_id dataset_id sample_id  \\\n",
              "2825868           NaN  009c1e6fcc03ebac    UNKNOWN    192870   \n",
              "2825869           NaN  009c1e6fcc03ebac    UNKNOWN    192870   \n",
              "2825870           NaN  009c1e6fcc03ebac    UNKNOWN    192870   \n",
              "2825871           NaN  009c1e6fcc03ebac    UNKNOWN    192870   \n",
              "\n",
              "                                                 directory  \\\n",
              "2825868  /bil/data/00/9c/009c1e6fcc03ebac/mouseID_w1905...   \n",
              "2825869  /bil/data/00/9c/009c1e6fcc03ebac/mouseID_w1905...   \n",
              "2825870  /bil/data/00/9c/009c1e6fcc03ebac/mouseID_w1905...   \n",
              "2825871  /bil/data/00/9c/009c1e6fcc03ebac/mouseID_w1905...   \n",
              "\n",
              "                                                  filepath  \\\n",
              "2825868  /bil/data/00/9c/009c1e6fcc03ebac/mouseID_w1905...   \n",
              "2825869  /bil/data/00/9c/009c1e6fcc03ebac/mouseID_w1905...   \n",
              "2825870  /bil/data/00/9c/009c1e6fcc03ebac/mouseID_w1905...   \n",
              "2825871  /bil/data/00/9c/009c1e6fcc03ebac/mouseID_w1905...   \n",
              "\n",
              "                              filename file_extension  file_size  \\\n",
              "2825868  192870_03928_CH1_resample.tif           .tif  4127021.0   \n",
              "2825869  192870_06980_CH1_resample.tif           .tif  4897429.0   \n",
              "2825870  192870_07971_CH1_resample.tif           .tif  4718253.0   \n",
              "2825871  192870_06978_CH1_resample.tif           .tif  4896531.0   \n",
              "\n",
              "         file_creation_date  \\\n",
              "2825868 2019-08-20 07:18:47   \n",
              "2825869 2019-08-20 08:56:03   \n",
              "2825870 2019-08-20 09:19:10   \n",
              "2825871 2019-08-20 09:21:56   \n",
              "\n",
              "                                                    sha256  \\\n",
              "2825868  3bafec76445cefc9cbca6f9a3572032abe5bdff640386d...   \n",
              "2825869  9da049ab835813ffac994fc440e741253173f02e744394...   \n",
              "2825870  9f7cd38d4cc8dba574fa352f145c519db6dd1d90e8efc5...   \n",
              "2825871  593f0052150dab61e4f9386c3898361802a2156b3f26d6...   \n",
              "\n",
              "                                      md5 xxh128 human_readable_file_size  \n",
              "2825868  78fea404674dce120bb9abc27dbe8ef3   None                     3.9M  \n",
              "2825869  4b0b17b798017768cac9bc82dc6d40fd   None                     4.7M  \n",
              "2825870  31bf67b4689a2e6b8debca6c7e1c6b22   None                     4.5M  \n",
              "2825871  6a42441d43f41c38d0af1a6f7f04b7a1   None                     4.7M  "
            ]
          },
          "execution_count": 14,
          "metadata": {},
          "output_type": "execute_result"
        }
      ],
      "source": [
        "df.tail(4)"
      ]
    },
    {
      "cell_type": "markdown",
      "id": "fa05f825-94c2-42ec-ad8a-506ef55739a8",
      "metadata": {
        "id": "fa05f825-94c2-42ec-ad8a-506ef55739a8"
      },
      "source": [
        "e. The column `xxh128` is empty. To compute this hash and populate this column we will use the function below. However, due to time constraints, we will only compute these hash for files whose extensions are not `.tif`/`.tiff`.\n",
        "\n",
        "For each file in the table, whose extension is not `.tif`/`.tiff`, compute the hash and store it in the column `xxh128`. Files without this hash, should remain as `None`."
      ]
    },
    {
      "cell_type": "code",
      "execution_count": null,
      "id": "e5624df5-ff17-43f9-85ab-754ba88fe591",
      "metadata": {
        "id": "e5624df5-ff17-43f9-85ab-754ba88fe591"
      },
      "outputs": [],
      "source": [
        "#INSERT CODE HERE\n",
        "def compute_xxh128sum(row, filename):\n",
        "    if Path(str(filename)).is_file():\n",
        "        # if (\".tif\" in df.loc[row,'file_extension']) \n",
        "            results = subprocess.check_output('/bil/packages/xxhash/0.8.0/xxh128sum ' + str(filename) + ' | cut -d\" \" -f1 | xargs', shell=True)\n",
        "            return results.decode(\"utf-8\").strip()\n"
      ]
    },
    {
      "cell_type": "code",
      "execution_count": null,
      "id": "2c02cee2-bfd7-4236-a743-5300b30f56b7",
      "metadata": {
        "id": "2c02cee2-bfd7-4236-a743-5300b30f56b7",
        "outputId": "d09875f2-1049-44c7-91ac-5acb86221200"
      },
      "outputs": [
        {
          "data": {
            "text/plain": [
              "1654"
            ]
          },
          "execution_count": 37,
          "metadata": {},
          "output_type": "execute_result"
        }
      ],
      "source": [
        "df.file_extension.isnull().sum()"
      ]
    },
    {
      "cell_type": "code",
      "execution_count": null,
      "id": "1a8054df-c01f-496a-a93d-beac8363c94d",
      "metadata": {
        "colab": {
          "referenced_widgets": [
            "9d792824bb54479db2dddc5f67aea948"
          ]
        },
        "id": "1a8054df-c01f-496a-a93d-beac8363c94d",
        "outputId": "b01c96de-e6ec-4d05-fb49-40122ff1106e"
      },
      "outputs": [
        {
          "data": {
            "application/vnd.jupyter.widget-view+json": {
              "model_id": "9d792824bb54479db2dddc5f67aea948",
              "version_major": 2,
              "version_minor": 0
            },
            "text/plain": [
              "  0%|          | 0/2825870 [00:00<?, ?it/s]"
            ]
          },
          "metadata": {},
          "output_type": "display_data"
        }
      ],
      "source": [
        "# select files whose extensions are not .tif/.tiff\n",
        "for i in tqdm(range(len(df))):\n",
        "    if (df.loc[i,'file_extension'] != '.tif' and df.loc[i,'file_extension'] != '.tiff') and df.loc[i,'xxh128'] == None:\n",
        "        df.loc[i,'xxh128'] = compute_xxh128sum(i, df.loc[i,'filepath'])\n",
        "        \n",
        "# df['file_extension'].str.contains('.tif', regex=False).value_counts()"
      ]
    },
    {
      "cell_type": "code",
      "execution_count": null,
      "id": "7b2b3261-92f4-44cf-b46f-fb2470bfd099",
      "metadata": {
        "id": "7b2b3261-92f4-44cf-b46f-fb2470bfd099",
        "outputId": "07625619-1735-44ee-ac27-453a8d402914"
      },
      "outputs": [
        {
          "data": {
            "text/plain": [
              "None                                2437615\n",
              "99aa06d3014798d86001c324468d497f       2060\n",
              "651976fbc991205dfcdafc6480036f56        748\n",
              "7dfb16e572e0e88b57ac248295debf75        165\n",
              "1f06fc3e270ce9e3230932ba33f77b68        162\n",
              "                                     ...   \n",
              "eafa1af11131d33b3b640c4f938595ad          1\n",
              "940ea595b8df48a2d91272b42bb64b1e          1\n",
              "21c9738d33cf3c5610c374ae68b71d38          1\n",
              "b593a4349d2c2ec5b767ee190671ac01          1\n",
              "49bbab65a497067d676ffd801ae45629          1\n",
              "Name: xxh128, Length: 383006, dtype: int64"
            ]
          },
          "execution_count": 96,
          "metadata": {},
          "output_type": "execute_result"
        }
      ],
      "source": [
        "df['xxh128'].value_counts()"
      ]
    },
    {
      "cell_type": "code",
      "execution_count": null,
      "id": "3dd3ba25-8245-47ae-8dbc-ba767fde4782",
      "metadata": {
        "id": "3dd3ba25-8245-47ae-8dbc-ba767fde4782",
        "outputId": "edc307db-3204-4bd6-b069-7c5484a7e64d"
      },
      "outputs": [
        {
          "data": {
            "text/plain": [
              "0"
            ]
          },
          "execution_count": 70,
          "metadata": {},
          "output_type": "execute_result"
        }
      ],
      "source": [
        "df.xxh128.isnull().sum()"
      ]
    },
    {
      "cell_type": "markdown",
      "id": "be537bf1-6da9-4699-b899-b3aa21f6606c",
      "metadata": {
        "id": "be537bf1-6da9-4699-b899-b3aa21f6606c"
      },
      "source": [
        "f. Add column `exists`. Use the value in `filepath` to find if the file exists on disk. If the file exists, then populate the column as `True`. `False` otherwise.\n",
        "\n",
        "**Hint** \n",
        "* Use `Path` from `pathlib`.\n",
        "* All files should exist, if some of these don't, then report it. Not your fault."
      ]
    },
    {
      "cell_type": "code",
      "execution_count": null,
      "id": "8cdeb39c-aeb8-466a-bb09-05554ef6de5d",
      "metadata": {
        "id": "8cdeb39c-aeb8-466a-bb09-05554ef6de5d"
      },
      "outputs": [],
      "source": [
        "#INSERT CODE HERE\n",
        "def check_exist(file):\n",
        "    try:\n",
        "        exist = Path(str(file)).exists()\n",
        "        return exist\n",
        "    except PermissionError:\n",
        "        return False\n"
      ]
    },
    {
      "cell_type": "code",
      "execution_count": null,
      "id": "fe118ff4-25b0-4e0e-99b6-2b0d1c0b6de6",
      "metadata": {
        "id": "fe118ff4-25b0-4e0e-99b6-2b0d1c0b6de6"
      },
      "outputs": [],
      "source": [
        "df['exists'] = df.progress_apply(lambda f: check_exist(f.filepath),axis=1)"
      ]
    },
    {
      "cell_type": "code",
      "execution_count": null,
      "id": "14a1c1e7-5d22-4008-8a40-d78fc7e16257",
      "metadata": {
        "id": "14a1c1e7-5d22-4008-8a40-d78fc7e16257",
        "outputId": "8554f04b-4732-472d-ac61-89e417776b31"
      },
      "outputs": [
        {
          "data": {
            "text/plain": [
              "True     2824340\n",
              "False       1530\n",
              "Name: exists, dtype: int64"
            ]
          },
          "execution_count": 53,
          "metadata": {},
          "output_type": "execute_result"
        }
      ],
      "source": [
        "# save to temp file\n",
        "# df.to_csv('temp.tsv',sep='\\t')\n",
        "df.exists.value_counts()"
      ]
    },
    {
      "cell_type": "code",
      "execution_count": null,
      "id": "0e45ab09-3570-438e-94a7-484e0e6498a6",
      "metadata": {
        "id": "0e45ab09-3570-438e-94a7-484e0e6498a6",
        "outputId": "2afc868f-2fd0-45db-8bdf-c8790503f519"
      },
      "outputs": [
        {
          "data": {
            "text/html": [
              "<div>\n",
              "<style scoped>\n",
              "    .dataframe tbody tr th:only-of-type {\n",
              "        vertical-align: middle;\n",
              "    }\n",
              "\n",
              "    .dataframe tbody tr th {\n",
              "        vertical-align: top;\n",
              "    }\n",
              "\n",
              "    .dataframe thead th {\n",
              "        text-align: right;\n",
              "    }\n",
              "</style>\n",
              "<table border=\"1\" class=\"dataframe\">\n",
              "  <thead>\n",
              "    <tr style=\"text-align: right;\">\n",
              "      <th></th>\n",
              "      <th>index</th>\n",
              "      <th>dataset_uuid</th>\n",
              "      <th>collection_id</th>\n",
              "      <th>dataset_id</th>\n",
              "      <th>sample_id</th>\n",
              "      <th>directory</th>\n",
              "      <th>filepath</th>\n",
              "      <th>filename</th>\n",
              "      <th>file_extension</th>\n",
              "      <th>file_size</th>\n",
              "      <th>file_creation_date</th>\n",
              "      <th>sha256</th>\n",
              "      <th>md5</th>\n",
              "      <th>xxh128</th>\n",
              "      <th>human_readable_file_size</th>\n",
              "      <th>download_link</th>\n",
              "      <th>download_timestamp</th>\n",
              "      <th>response_code</th>\n",
              "      <th>download_ready</th>\n",
              "      <th>exists</th>\n",
              "    </tr>\n",
              "  </thead>\n",
              "  <tbody>\n",
              "    <tr>\n",
              "      <th>2825866</th>\n",
              "      <td>2825868</td>\n",
              "      <td>NaN</td>\n",
              "      <td>009c1e6fcc03ebac</td>\n",
              "      <td>UNKNOWN</td>\n",
              "      <td>192870</td>\n",
              "      <td>/bil/data/00/9c/009c1e6fcc03ebac/mouseID_w1905...</td>\n",
              "      <td>/bil/data/00/9c/009c1e6fcc03ebac/mouseID_w1905...</td>\n",
              "      <td>192870_03928_CH1_resample.tif</td>\n",
              "      <td>.tif</td>\n",
              "      <td>4127021.0</td>\n",
              "      <td>2019-08-20 07:18:47</td>\n",
              "      <td>3bafec76445cefc9cbca6f9a3572032abe5bdff640386d...</td>\n",
              "      <td>78fea404674dce120bb9abc27dbe8ef3</td>\n",
              "      <td>None</td>\n",
              "      <td>3.9M</td>\n",
              "      <td>NaN</td>\n",
              "      <td>NaT</td>\n",
              "      <td>NaN</td>\n",
              "      <td>NaN</td>\n",
              "      <td>True</td>\n",
              "    </tr>\n",
              "    <tr>\n",
              "      <th>2825867</th>\n",
              "      <td>2825869</td>\n",
              "      <td>NaN</td>\n",
              "      <td>009c1e6fcc03ebac</td>\n",
              "      <td>UNKNOWN</td>\n",
              "      <td>192870</td>\n",
              "      <td>/bil/data/00/9c/009c1e6fcc03ebac/mouseID_w1905...</td>\n",
              "      <td>/bil/data/00/9c/009c1e6fcc03ebac/mouseID_w1905...</td>\n",
              "      <td>192870_06980_CH1_resample.tif</td>\n",
              "      <td>.tif</td>\n",
              "      <td>4897429.0</td>\n",
              "      <td>2019-08-20 08:56:03</td>\n",
              "      <td>9da049ab835813ffac994fc440e741253173f02e744394...</td>\n",
              "      <td>4b0b17b798017768cac9bc82dc6d40fd</td>\n",
              "      <td>None</td>\n",
              "      <td>4.7M</td>\n",
              "      <td>NaN</td>\n",
              "      <td>NaT</td>\n",
              "      <td>NaN</td>\n",
              "      <td>NaN</td>\n",
              "      <td>True</td>\n",
              "    </tr>\n",
              "    <tr>\n",
              "      <th>2825868</th>\n",
              "      <td>2825870</td>\n",
              "      <td>NaN</td>\n",
              "      <td>009c1e6fcc03ebac</td>\n",
              "      <td>UNKNOWN</td>\n",
              "      <td>192870</td>\n",
              "      <td>/bil/data/00/9c/009c1e6fcc03ebac/mouseID_w1905...</td>\n",
              "      <td>/bil/data/00/9c/009c1e6fcc03ebac/mouseID_w1905...</td>\n",
              "      <td>192870_07971_CH1_resample.tif</td>\n",
              "      <td>.tif</td>\n",
              "      <td>4718253.0</td>\n",
              "      <td>2019-08-20 09:19:10</td>\n",
              "      <td>9f7cd38d4cc8dba574fa352f145c519db6dd1d90e8efc5...</td>\n",
              "      <td>31bf67b4689a2e6b8debca6c7e1c6b22</td>\n",
              "      <td>None</td>\n",
              "      <td>4.5M</td>\n",
              "      <td>NaN</td>\n",
              "      <td>NaT</td>\n",
              "      <td>NaN</td>\n",
              "      <td>NaN</td>\n",
              "      <td>True</td>\n",
              "    </tr>\n",
              "    <tr>\n",
              "      <th>2825869</th>\n",
              "      <td>2825871</td>\n",
              "      <td>NaN</td>\n",
              "      <td>009c1e6fcc03ebac</td>\n",
              "      <td>UNKNOWN</td>\n",
              "      <td>192870</td>\n",
              "      <td>/bil/data/00/9c/009c1e6fcc03ebac/mouseID_w1905...</td>\n",
              "      <td>/bil/data/00/9c/009c1e6fcc03ebac/mouseID_w1905...</td>\n",
              "      <td>192870_06978_CH1_resample.tif</td>\n",
              "      <td>.tif</td>\n",
              "      <td>4896531.0</td>\n",
              "      <td>2019-08-20 09:21:56</td>\n",
              "      <td>593f0052150dab61e4f9386c3898361802a2156b3f26d6...</td>\n",
              "      <td>6a42441d43f41c38d0af1a6f7f04b7a1</td>\n",
              "      <td>None</td>\n",
              "      <td>4.7M</td>\n",
              "      <td>NaN</td>\n",
              "      <td>NaT</td>\n",
              "      <td>NaN</td>\n",
              "      <td>NaN</td>\n",
              "      <td>True</td>\n",
              "    </tr>\n",
              "  </tbody>\n",
              "</table>\n",
              "</div>"
            ],
            "text/plain": [
              "           index  dataset_uuid     collection_id dataset_id sample_id  \\\n",
              "2825866  2825868           NaN  009c1e6fcc03ebac    UNKNOWN    192870   \n",
              "2825867  2825869           NaN  009c1e6fcc03ebac    UNKNOWN    192870   \n",
              "2825868  2825870           NaN  009c1e6fcc03ebac    UNKNOWN    192870   \n",
              "2825869  2825871           NaN  009c1e6fcc03ebac    UNKNOWN    192870   \n",
              "\n",
              "                                                 directory  \\\n",
              "2825866  /bil/data/00/9c/009c1e6fcc03ebac/mouseID_w1905...   \n",
              "2825867  /bil/data/00/9c/009c1e6fcc03ebac/mouseID_w1905...   \n",
              "2825868  /bil/data/00/9c/009c1e6fcc03ebac/mouseID_w1905...   \n",
              "2825869  /bil/data/00/9c/009c1e6fcc03ebac/mouseID_w1905...   \n",
              "\n",
              "                                                  filepath  \\\n",
              "2825866  /bil/data/00/9c/009c1e6fcc03ebac/mouseID_w1905...   \n",
              "2825867  /bil/data/00/9c/009c1e6fcc03ebac/mouseID_w1905...   \n",
              "2825868  /bil/data/00/9c/009c1e6fcc03ebac/mouseID_w1905...   \n",
              "2825869  /bil/data/00/9c/009c1e6fcc03ebac/mouseID_w1905...   \n",
              "\n",
              "                              filename file_extension  file_size  \\\n",
              "2825866  192870_03928_CH1_resample.tif           .tif  4127021.0   \n",
              "2825867  192870_06980_CH1_resample.tif           .tif  4897429.0   \n",
              "2825868  192870_07971_CH1_resample.tif           .tif  4718253.0   \n",
              "2825869  192870_06978_CH1_resample.tif           .tif  4896531.0   \n",
              "\n",
              "         file_creation_date  \\\n",
              "2825866 2019-08-20 07:18:47   \n",
              "2825867 2019-08-20 08:56:03   \n",
              "2825868 2019-08-20 09:19:10   \n",
              "2825869 2019-08-20 09:21:56   \n",
              "\n",
              "                                                    sha256  \\\n",
              "2825866  3bafec76445cefc9cbca6f9a3572032abe5bdff640386d...   \n",
              "2825867  9da049ab835813ffac994fc440e741253173f02e744394...   \n",
              "2825868  9f7cd38d4cc8dba574fa352f145c519db6dd1d90e8efc5...   \n",
              "2825869  593f0052150dab61e4f9386c3898361802a2156b3f26d6...   \n",
              "\n",
              "                                      md5 xxh128 human_readable_file_size  \\\n",
              "2825866  78fea404674dce120bb9abc27dbe8ef3   None                     3.9M   \n",
              "2825867  4b0b17b798017768cac9bc82dc6d40fd   None                     4.7M   \n",
              "2825868  31bf67b4689a2e6b8debca6c7e1c6b22   None                     4.5M   \n",
              "2825869  6a42441d43f41c38d0af1a6f7f04b7a1   None                     4.7M   \n",
              "\n",
              "        download_link download_timestamp  response_code download_ready  exists  \n",
              "2825866           NaN                NaT            NaN            NaN    True  \n",
              "2825867           NaN                NaT            NaN            NaN    True  \n",
              "2825868           NaN                NaT            NaN            NaN    True  \n",
              "2825869           NaN                NaT            NaN            NaN    True  "
            ]
          },
          "execution_count": 74,
          "metadata": {},
          "output_type": "execute_result"
        }
      ],
      "source": [
        "df.tail(4)"
      ]
    },
    {
      "cell_type": "markdown",
      "id": "f54cf773-c5c6-43e0-8fff-07051f8d8b9d",
      "metadata": {
        "id": "f54cf773-c5c6-43e0-8fff-07051f8d8b9d"
      },
      "source": [
        "g. Add columns `download_link`, `download_ready`, `response_code`, `download_timestamp`. Add these four columns and set the default values to `None`."
      ]
    },
    {
      "cell_type": "code",
      "execution_count": null,
      "id": "0fe3e463-b53a-48fb-9a04-7588557c7d56",
      "metadata": {
        "id": "0fe3e463-b53a-48fb-9a04-7588557c7d56"
      },
      "outputs": [],
      "source": [
        "#INSERT CODE HERE\n",
        "df['download_link'], df['download_ready'], df['response_code'], df['download_timestamp'] = None, None, None, None"
      ]
    },
    {
      "cell_type": "code",
      "execution_count": null,
      "id": "ee087609-f9db-48b9-9df4-1a1c1dea3fef",
      "metadata": {
        "id": "ee087609-f9db-48b9-9df4-1a1c1dea3fef"
      },
      "outputs": [],
      "source": [
        "df.tail(4)"
      ]
    },
    {
      "cell_type": "markdown",
      "id": "22e87c7f-1b0e-4859-b600-b361a78aec82",
      "metadata": {
        "id": "22e87c7f-1b0e-4859-b600-b361a78aec82"
      },
      "source": [
        "h. We can populate the columns above at the same time to minimize the number of requests. In this case, each value in `filepath` can be turned into an download link. For example, the file `/bil/data/00/9c/009c1e6fcc03ebac/mouseID_19032506-191184/readme.txt` can be turned into a URL by replacing the prefix `/bil/data` with `https://download.brainimagelibrary.org`, leading to `https://download.brainimagelibrary.org/00/9c/009c1e6fcc03ebac/mouseID_19032506-191184/readme.txt`.\n",
        "\n",
        "Download the response header (not the file) to determine if the file is reachable. Add `True` to `download_ready` if the file is reachable. `False` otherwise.\n",
        "\n",
        "Save the response code from the request to column `response_code` as an integer, e.g. 202, 404, etc.\n",
        "\n",
        "Record the timestamp when you made this request to column `download_timestamp`. This column should be of dtype `datetime`.\n",
        "\n",
        "**Hints**\n",
        "* Write a single method that can perform these tasks in a single call.\n",
        "* You could also write a method that takes the full dataframe and returns and updated dataframe.\n",
        "* You should be saving checkpoints to avoid recomputation.\n",
        "* All links should be reachable. If some of these aren't that's a problem, but not your problem.\n",
        "\n"
      ]
    },
    {
      "cell_type": "code",
      "execution_count": null,
      "id": "557aa499-fe40-4334-be88-b7b3d05a8923",
      "metadata": {
        "id": "557aa499-fe40-4334-be88-b7b3d05a8923"
      },
      "outputs": [],
      "source": [
        "#INSERT CODE HERE\n",
        "def pathtolink(filepath\t):\n",
        "    link = filepath.replace('/bil/data', 'https://download.brainimagelibrary.org', 1)\n",
        "    response = requests.get(link)\n",
        "    timestamp = datetime.datetime.now()\n",
        "    status = response.status_code\n",
        "    ready = True\n",
        "    if response.status_code == 200 or response.status_code == 308:\n",
        "        ready = True\n",
        "    else:\n",
        "        ready = False\n",
        "    return link, timestamp, status, ready"
      ]
    },
    {
      "cell_type": "code",
      "execution_count": null,
      "id": "5bf46557-1799-4001-8899-ef9cd41d8e44",
      "metadata": {
        "colab": {
          "referenced_widgets": [
            "1dde30af72674a4b988af014c854c104"
          ]
        },
        "id": "5bf46557-1799-4001-8899-ef9cd41d8e44",
        "outputId": "0036b3cd-71a2-4559-b853-739859a0c240"
      },
      "outputs": [
        {
          "data": {
            "application/vnd.jupyter.widget-view+json": {
              "model_id": "1dde30af72674a4b988af014c854c104",
              "version_major": 2,
              "version_minor": 0
            },
            "text/plain": [
              "  0%|          | 0/805869 [00:00<?, ?it/s]"
            ]
          },
          "metadata": {},
          "output_type": "display_data"
        }
      ],
      "source": [
        "for i in tqdm(range(len(df))):\n",
        "    link, timestamp, response, ready = pathtolink(df.loc[i,'filepath'])\n",
        "    df.loc[i,'download_link'] = link\n",
        "    df.loc[i,'download_timestamp'] = timestamp\n",
        "    df.loc[i,'response_code'] = response\n",
        "    df.loc[i,'download_ready'] = ready\n",
        "    \n",
        "    if i % 10000 == 0 or i == len(df)-1:\n",
        "        print('checkpoint', i)\n",
        "        df.to_csv('temp3.tsv',sep='\\t',index=False)"
      ]
    },
    {
      "cell_type": "code",
      "execution_count": null,
      "id": "4a2f5d1f-d7ed-4376-aab2-c9c04847da03",
      "metadata": {
        "colab": {
          "base_uri": "https://localhost:8080/",
          "height": 305
        },
        "id": "4a2f5d1f-d7ed-4376-aab2-c9c04847da03",
        "outputId": "da926a6a-6a22-45d0-b391-a11c83d0561b"
      },
      "outputs": [
        {
          "output_type": "execute_result",
          "data": {
            "text/plain": [
              "   dataset_uuid     collection_id dataset_id sample_id  \\\n",
              "0           NaN  009c1e6fcc03ebac    UNKNOWN    190895   \n",
              "1           NaN  009c1e6fcc03ebac    UNKNOWN    190895   \n",
              "2           NaN  009c1e6fcc03ebac    UNKNOWN    190895   \n",
              "3           NaN  009c1e6fcc03ebac    UNKNOWN    191178   \n",
              "4           NaN  009c1e6fcc03ebac    UNKNOWN    190896   \n",
              "\n",
              "                                           directory  \\\n",
              "0  /bil/data/00/9c/009c1e6fcc03ebac/mouseID_19022...   \n",
              "1  /bil/data/00/9c/009c1e6fcc03ebac/mouseID_19022...   \n",
              "2  /bil/data/00/9c/009c1e6fcc03ebac/mouseID_19022...   \n",
              "3  /bil/data/00/9c/009c1e6fcc03ebac/mouseID_19032...   \n",
              "4  /bil/data/00/9c/009c1e6fcc03ebac/mouseID_19022...   \n",
              "\n",
              "                                            filepath  \\\n",
              "0  /bil/data/00/9c/009c1e6fcc03ebac/mouseID_19022...   \n",
              "1  /bil/data/00/9c/009c1e6fcc03ebac/mouseID_19022...   \n",
              "2  /bil/data/00/9c/009c1e6fcc03ebac/mouseID_19022...   \n",
              "3  /bil/data/00/9c/009c1e6fcc03ebac/mouseID_19032...   \n",
              "4  /bil/data/00/9c/009c1e6fcc03ebac/mouseID_19022...   \n",
              "\n",
              "                             filename file_extension  file_size  \\\n",
              "0                 190895-metainfo.txt           .txt      693.0   \n",
              "1                         190895.json          .json      534.0   \n",
              "2  xxhash_dat_mouseID_19022522-190895            NaN  1071128.0   \n",
              "3  xxhash_dat_mouseID_19032517-191178            NaN  1096722.0   \n",
              "4                         190896.json          .json      534.0   \n",
              "\n",
              "   file_creation_date                                             sha256  \\\n",
              "0  2019-12-0503:26:25  2f83f9da49a4fc59b80b9185207055832653ddf51117e3...   \n",
              "1  2019-12-0503:27:38  55b2e61954ae32118f7d923a710489b0355123142579b9...   \n",
              "2  2019-12-0408:54:50  906545fa0dead8e6a5496ba803e9acd2a2d439b66db691...   \n",
              "3  2020-06-2907:43:20  c4e07196782566e7773f69b1eba310492c2bd5355a273f...   \n",
              "4  2020-06-2204:21:19  cbca27551e57bba24c13aff4f8344614b5ff95fb2ac7c0...   \n",
              "\n",
              "                                md5 xxh128  \n",
              "0  aae6752c964e56146934fef4e2e21491   None  \n",
              "1  2704360b304105e180fb08ef06d1a52b   None  \n",
              "2  fa2aaf565457ed5d5701d22d59f54506   None  \n",
              "3  18758836aa7a3697dfcbc10ffc76dba2   None  \n",
              "4  dd486c5107c9ee689df7588eedf399f6   None  "
            ],
            "text/html": [
              "\n",
              "  <div id=\"df-f4d5eb8a-e313-4dd6-adf1-5700df4205a2\">\n",
              "    <div class=\"colab-df-container\">\n",
              "      <div>\n",
              "<style scoped>\n",
              "    .dataframe tbody tr th:only-of-type {\n",
              "        vertical-align: middle;\n",
              "    }\n",
              "\n",
              "    .dataframe tbody tr th {\n",
              "        vertical-align: top;\n",
              "    }\n",
              "\n",
              "    .dataframe thead th {\n",
              "        text-align: right;\n",
              "    }\n",
              "</style>\n",
              "<table border=\"1\" class=\"dataframe\">\n",
              "  <thead>\n",
              "    <tr style=\"text-align: right;\">\n",
              "      <th></th>\n",
              "      <th>dataset_uuid</th>\n",
              "      <th>collection_id</th>\n",
              "      <th>dataset_id</th>\n",
              "      <th>sample_id</th>\n",
              "      <th>directory</th>\n",
              "      <th>filepath</th>\n",
              "      <th>filename</th>\n",
              "      <th>file_extension</th>\n",
              "      <th>file_size</th>\n",
              "      <th>file_creation_date</th>\n",
              "      <th>sha256</th>\n",
              "      <th>md5</th>\n",
              "      <th>xxh128</th>\n",
              "    </tr>\n",
              "  </thead>\n",
              "  <tbody>\n",
              "    <tr>\n",
              "      <th>0</th>\n",
              "      <td>NaN</td>\n",
              "      <td>009c1e6fcc03ebac</td>\n",
              "      <td>UNKNOWN</td>\n",
              "      <td>190895</td>\n",
              "      <td>/bil/data/00/9c/009c1e6fcc03ebac/mouseID_19022...</td>\n",
              "      <td>/bil/data/00/9c/009c1e6fcc03ebac/mouseID_19022...</td>\n",
              "      <td>190895-metainfo.txt</td>\n",
              "      <td>.txt</td>\n",
              "      <td>693.0</td>\n",
              "      <td>2019-12-0503:26:25</td>\n",
              "      <td>2f83f9da49a4fc59b80b9185207055832653ddf51117e3...</td>\n",
              "      <td>aae6752c964e56146934fef4e2e21491</td>\n",
              "      <td>None</td>\n",
              "    </tr>\n",
              "    <tr>\n",
              "      <th>1</th>\n",
              "      <td>NaN</td>\n",
              "      <td>009c1e6fcc03ebac</td>\n",
              "      <td>UNKNOWN</td>\n",
              "      <td>190895</td>\n",
              "      <td>/bil/data/00/9c/009c1e6fcc03ebac/mouseID_19022...</td>\n",
              "      <td>/bil/data/00/9c/009c1e6fcc03ebac/mouseID_19022...</td>\n",
              "      <td>190895.json</td>\n",
              "      <td>.json</td>\n",
              "      <td>534.0</td>\n",
              "      <td>2019-12-0503:27:38</td>\n",
              "      <td>55b2e61954ae32118f7d923a710489b0355123142579b9...</td>\n",
              "      <td>2704360b304105e180fb08ef06d1a52b</td>\n",
              "      <td>None</td>\n",
              "    </tr>\n",
              "    <tr>\n",
              "      <th>2</th>\n",
              "      <td>NaN</td>\n",
              "      <td>009c1e6fcc03ebac</td>\n",
              "      <td>UNKNOWN</td>\n",
              "      <td>190895</td>\n",
              "      <td>/bil/data/00/9c/009c1e6fcc03ebac/mouseID_19022...</td>\n",
              "      <td>/bil/data/00/9c/009c1e6fcc03ebac/mouseID_19022...</td>\n",
              "      <td>xxhash_dat_mouseID_19022522-190895</td>\n",
              "      <td>NaN</td>\n",
              "      <td>1071128.0</td>\n",
              "      <td>2019-12-0408:54:50</td>\n",
              "      <td>906545fa0dead8e6a5496ba803e9acd2a2d439b66db691...</td>\n",
              "      <td>fa2aaf565457ed5d5701d22d59f54506</td>\n",
              "      <td>None</td>\n",
              "    </tr>\n",
              "    <tr>\n",
              "      <th>3</th>\n",
              "      <td>NaN</td>\n",
              "      <td>009c1e6fcc03ebac</td>\n",
              "      <td>UNKNOWN</td>\n",
              "      <td>191178</td>\n",
              "      <td>/bil/data/00/9c/009c1e6fcc03ebac/mouseID_19032...</td>\n",
              "      <td>/bil/data/00/9c/009c1e6fcc03ebac/mouseID_19032...</td>\n",
              "      <td>xxhash_dat_mouseID_19032517-191178</td>\n",
              "      <td>NaN</td>\n",
              "      <td>1096722.0</td>\n",
              "      <td>2020-06-2907:43:20</td>\n",
              "      <td>c4e07196782566e7773f69b1eba310492c2bd5355a273f...</td>\n",
              "      <td>18758836aa7a3697dfcbc10ffc76dba2</td>\n",
              "      <td>None</td>\n",
              "    </tr>\n",
              "    <tr>\n",
              "      <th>4</th>\n",
              "      <td>NaN</td>\n",
              "      <td>009c1e6fcc03ebac</td>\n",
              "      <td>UNKNOWN</td>\n",
              "      <td>190896</td>\n",
              "      <td>/bil/data/00/9c/009c1e6fcc03ebac/mouseID_19022...</td>\n",
              "      <td>/bil/data/00/9c/009c1e6fcc03ebac/mouseID_19022...</td>\n",
              "      <td>190896.json</td>\n",
              "      <td>.json</td>\n",
              "      <td>534.0</td>\n",
              "      <td>2020-06-2204:21:19</td>\n",
              "      <td>cbca27551e57bba24c13aff4f8344614b5ff95fb2ac7c0...</td>\n",
              "      <td>dd486c5107c9ee689df7588eedf399f6</td>\n",
              "      <td>None</td>\n",
              "    </tr>\n",
              "  </tbody>\n",
              "</table>\n",
              "</div>\n",
              "      <button class=\"colab-df-convert\" onclick=\"convertToInteractive('df-f4d5eb8a-e313-4dd6-adf1-5700df4205a2')\"\n",
              "              title=\"Convert this dataframe to an interactive table.\"\n",
              "              style=\"display:none;\">\n",
              "        \n",
              "  <svg xmlns=\"http://www.w3.org/2000/svg\" height=\"24px\"viewBox=\"0 0 24 24\"\n",
              "       width=\"24px\">\n",
              "    <path d=\"M0 0h24v24H0V0z\" fill=\"none\"/>\n",
              "    <path d=\"M18.56 5.44l.94 2.06.94-2.06 2.06-.94-2.06-.94-.94-2.06-.94 2.06-2.06.94zm-11 1L8.5 8.5l.94-2.06 2.06-.94-2.06-.94L8.5 2.5l-.94 2.06-2.06.94zm10 10l.94 2.06.94-2.06 2.06-.94-2.06-.94-.94-2.06-.94 2.06-2.06.94z\"/><path d=\"M17.41 7.96l-1.37-1.37c-.4-.4-.92-.59-1.43-.59-.52 0-1.04.2-1.43.59L10.3 9.45l-7.72 7.72c-.78.78-.78 2.05 0 2.83L4 21.41c.39.39.9.59 1.41.59.51 0 1.02-.2 1.41-.59l7.78-7.78 2.81-2.81c.8-.78.8-2.07 0-2.86zM5.41 20L4 18.59l7.72-7.72 1.47 1.35L5.41 20z\"/>\n",
              "  </svg>\n",
              "      </button>\n",
              "      \n",
              "  <style>\n",
              "    .colab-df-container {\n",
              "      display:flex;\n",
              "      flex-wrap:wrap;\n",
              "      gap: 12px;\n",
              "    }\n",
              "\n",
              "    .colab-df-convert {\n",
              "      background-color: #E8F0FE;\n",
              "      border: none;\n",
              "      border-radius: 50%;\n",
              "      cursor: pointer;\n",
              "      display: none;\n",
              "      fill: #1967D2;\n",
              "      height: 32px;\n",
              "      padding: 0 0 0 0;\n",
              "      width: 32px;\n",
              "    }\n",
              "\n",
              "    .colab-df-convert:hover {\n",
              "      background-color: #E2EBFA;\n",
              "      box-shadow: 0px 1px 2px rgba(60, 64, 67, 0.3), 0px 1px 3px 1px rgba(60, 64, 67, 0.15);\n",
              "      fill: #174EA6;\n",
              "    }\n",
              "\n",
              "    [theme=dark] .colab-df-convert {\n",
              "      background-color: #3B4455;\n",
              "      fill: #D2E3FC;\n",
              "    }\n",
              "\n",
              "    [theme=dark] .colab-df-convert:hover {\n",
              "      background-color: #434B5C;\n",
              "      box-shadow: 0px 1px 3px 1px rgba(0, 0, 0, 0.15);\n",
              "      filter: drop-shadow(0px 1px 2px rgba(0, 0, 0, 0.3));\n",
              "      fill: #FFFFFF;\n",
              "    }\n",
              "  </style>\n",
              "\n",
              "      <script>\n",
              "        const buttonEl =\n",
              "          document.querySelector('#df-f4d5eb8a-e313-4dd6-adf1-5700df4205a2 button.colab-df-convert');\n",
              "        buttonEl.style.display =\n",
              "          google.colab.kernel.accessAllowed ? 'block' : 'none';\n",
              "\n",
              "        async function convertToInteractive(key) {\n",
              "          const element = document.querySelector('#df-f4d5eb8a-e313-4dd6-adf1-5700df4205a2');\n",
              "          const dataTable =\n",
              "            await google.colab.kernel.invokeFunction('convertToInteractive',\n",
              "                                                     [key], {});\n",
              "          if (!dataTable) return;\n",
              "\n",
              "          const docLinkHtml = 'Like what you see? Visit the ' +\n",
              "            '<a target=\"_blank\" href=https://colab.research.google.com/notebooks/data_table.ipynb>data table notebook</a>'\n",
              "            + ' to learn more about interactive tables.';\n",
              "          element.innerHTML = '';\n",
              "          dataTable['output_type'] = 'display_data';\n",
              "          await google.colab.output.renderOutput(dataTable, element);\n",
              "          const docLink = document.createElement('div');\n",
              "          docLink.innerHTML = docLinkHtml;\n",
              "          element.appendChild(docLink);\n",
              "        }\n",
              "      </script>\n",
              "    </div>\n",
              "  </div>\n",
              "  "
            ]
          },
          "metadata": {},
          "execution_count": 9
        }
      ],
      "source": [
        "df.head(5)"
      ]
    },
    {
      "cell_type": "code",
      "execution_count": null,
      "id": "cd7ac550-c5fb-477b-a11a-0e0684d860bc",
      "metadata": {
        "id": "cd7ac550-c5fb-477b-a11a-0e0684d860bc",
        "outputId": "8412e085-39b3-43c0-d64a-d736c471a2b7"
      },
      "outputs": [
        {
          "data": {
            "text/plain": [
              "404    726130\n",
              "Name: response_code, dtype: int64"
            ]
          },
          "execution_count": 178,
          "metadata": {},
          "output_type": "execute_result"
        }
      ],
      "source": [
        "df[\"response_code\"].value_counts()"
      ]
    },
    {
      "cell_type": "markdown",
      "id": "9344e556-170d-4ea6-9bc1-26ec9d5235f5",
      "metadata": {
        "id": "9344e556-170d-4ea6-9bc1-26ec9d5235f5"
      },
      "source": [
        "i. Populate the column `dataset_uuid`. This one is tricky. This dataframe has one row per file. These files are grouped together in datasets. However the column `dataset_uuid` is empty. And now we need to populate it.\n",
        "\n",
        "A dataset can be identified as a combination of `collection_id`, `sample_id` and `directory`. Generate a unique [UUID](https://www.educba.com/python-uuid/) for each unique combination of `collection_id`, `sample_id` and `directory`. Use the UUID to populate the column `dataset_uuid`. Keep in mind there will be multiple rows in this table that will share the combination of `collection_id`, `sample_id` and `directory`, hence all of these rows should also have the `dataset_uuid` as it means these are all part of the same dataset."
      ]
    },
    {
      "cell_type": "code",
      "execution_count": null,
      "id": "c408c80a-935a-42e7-b536-0faae2a03a3d",
      "metadata": {
        "id": "c408c80a-935a-42e7-b536-0faae2a03a3d"
      },
      "outputs": [],
      "source": [
        "import uuid\n",
        "import hashlib"
      ]
    },
    {
      "cell_type": "code",
      "execution_count": null,
      "id": "e6de8f43-fcc5-4d4f-af16-25c0bb9ef21d",
      "metadata": {
        "id": "e6de8f43-fcc5-4d4f-af16-25c0bb9ef21d"
      },
      "outputs": [],
      "source": [
        "#INSERT CODE HERE\n",
        "df['dataset_uuid'] = df.groupby(['collection_id','sample_id','directory']).dataset_uuid.transform(lambda x: uuid.uuid4())"
      ]
    },
    {
      "cell_type": "code",
      "execution_count": null,
      "id": "fa133c16-8a3d-4324-a32f-d4d9698ecacd",
      "metadata": {
        "id": "fa133c16-8a3d-4324-a32f-d4d9698ecacd"
      },
      "outputs": [],
      "source": [
        "# df.groupby(['collection_id','sample_id','directory']).dataset_uuid\n",
        "# dftempgrp['dataset_uuid'] = dftempgrp.progress_apply(lambda f: uuid.uuid3(uuid.NAMESPACE_DNS, f.directory),axis=1)"
      ]
    },
    {
      "cell_type": "markdown",
      "id": "946f4e6a-29fc-46e5-bcdb-ec7040e2bb22",
      "metadata": {
        "id": "946f4e6a-29fc-46e5-bcdb-ec7040e2bb22"
      },
      "source": [
        "k. If you haven't done it (and you should have saved some checkpoints), then save the df to disk as a pickle file and as a tsv file. Save it to `manifest.tsv` and `manifest.pkl`."
      ]
    },
    {
      "cell_type": "code",
      "execution_count": null,
      "id": "4c57505c-c58d-43a5-b762-c6ff361838a0",
      "metadata": {
        "id": "4c57505c-c58d-43a5-b762-c6ff361838a0"
      },
      "outputs": [],
      "source": [
        "#INSERT CODE HERE\n",
        "import pickle\n",
        "\n",
        "handle = open('manifest.pkl', 'wb')\n",
        "pickle.dump(df, handle, protocol=pickle.HIGHEST_PROTOCOL)\n",
        "handle.close()\n",
        "\n",
        "df.to_csv('manifest.tsv',sep='\\t',index=False)"
      ]
    },
    {
      "cell_type": "code",
      "source": [
        "# from google.colab import drive\n",
        "# drive.mount('/content/drive')"
      ],
      "metadata": {
        "colab": {
          "base_uri": "https://localhost:8080/"
        },
        "id": "1nmujzoHudnf",
        "outputId": "97b38563-e73a-47b2-c052-8db6318749dc"
      },
      "id": "1nmujzoHudnf",
      "execution_count": null,
      "outputs": [
        {
          "output_type": "stream",
          "name": "stdout",
          "text": [
            "Mounted at /content/drive\n"
          ]
        }
      ]
    },
    {
      "cell_type": "markdown",
      "id": "a033c3f7-f95a-4f54-8e79-c84027b7c90b",
      "metadata": {
        "id": "a033c3f7-f95a-4f54-8e79-c84027b7c90b"
      },
      "source": [
        "## Exercise 2\n",
        "a. Create another dataframe with columns `['dataset_uuid', 'collection_id', 'dataset_id', 'sample_id', 'directory', 'file_extensions','timestamp']`.\n",
        "\n",
        "i. Set `file_extensions` to `None`.\n",
        "\n",
        "ii. Use the values in the first dataframe to populate the other columns.\n",
        "\n",
        "iii. Record the timestamp when you made this request to column `timestamp`. This column should be of dtype `datetime`.\n",
        "\n",
        "**Hints**\n",
        "* The first dataframe had a row per each file in the dataset. Whereas the second dataframe should have one row per dataset."
      ]
    },
    {
      "cell_type": "code",
      "execution_count": null,
      "id": "a8160077-c7cf-4a14-9022-f5d90855d132",
      "metadata": {
        "id": "a8160077-c7cf-4a14-9022-f5d90855d132"
      },
      "outputs": [],
      "source": [
        "#INSERT CODE HERE\n",
        "# df2 = df[['dataset_uuid', 'collection_id', 'dataset_id', 'sample_id', 'directory', 'file_extensions','timestamp']]\n",
        "df2 = pd.DataFrame(columns=['dataset_uuid', 'collection_id', 'dataset_id', 'sample_id', 'directory', 'file_extensions','timestamp'])\n",
        "df2['file_extensions'] = None\n",
        "df2['dataset_uuid'] = df['dataset_uuid']\n",
        "df2['collection_id'] = df['collection_id']\n",
        "df2['dataset_id'] = df['dataset_id']\n",
        "df2['sample_id'] = df['sample_id']\n",
        "df2['directory'] = df['directory']\n",
        "df2['timestamp'] = datetime.datetime.now() "
      ]
    },
    {
      "cell_type": "code",
      "execution_count": null,
      "id": "5f2cabcd-a66e-4d88-8973-8fb0e75b0216",
      "metadata": {
        "id": "5f2cabcd-a66e-4d88-8973-8fb0e75b0216"
      },
      "outputs": [],
      "source": [
        "df2.drop_duplicates(subset=['dataset_uuid'],inplace=True)\n",
        "# df2.tail()"
      ]
    },
    {
      "cell_type": "code",
      "source": [
        "df2"
      ],
      "metadata": {
        "colab": {
          "base_uri": "https://localhost:8080/",
          "height": 424
        },
        "id": "ZLoswTUhwiXN",
        "outputId": "8c50b3db-6220-4551-ca21-55459f4bdb31"
      },
      "id": "ZLoswTUhwiXN",
      "execution_count": null,
      "outputs": [
        {
          "output_type": "execute_result",
          "data": {
            "text/plain": [
              "                                 dataset_uuid     collection_id dataset_id  \\\n",
              "0        3e8a5a54-23f8-42f7-a8cb-b8bd429bcefd  009c1e6fcc03ebac    UNKNOWN   \n",
              "3        4ae7710b-7d6d-4566-92fd-e527ff5c0b24  009c1e6fcc03ebac    UNKNOWN   \n",
              "4        713fe4c7-2f4d-4c59-8172-17feaaffbab9  009c1e6fcc03ebac    UNKNOWN   \n",
              "8        96a6d33a-3d29-4b3b-990c-d3e6da9cbe0b  009c1e6fcc03ebac    UNKNOWN   \n",
              "9        d137f5fd-ace5-487d-a904-8572b3a88033  009c1e6fcc03ebac    UNKNOWN   \n",
              "...                                       ...               ...        ...   \n",
              "2708749  538a44a4-fd3b-448a-9fa5-2969885d3763  009c1e6fcc03ebac    UNKNOWN   \n",
              "2732865  d6cda7f6-9026-47ed-a74c-a149c66714d8  009c1e6fcc03ebac    UNKNOWN   \n",
              "2756755  e344082e-9a15-4a5e-9838-1096f0dca01a  009c1e6fcc03ebac    UNKNOWN   \n",
              "2780059  a4c8cc69-f166-4537-a228-364faa8ee1e7  009c1e6fcc03ebac    UNKNOWN   \n",
              "2803697  567044b6-31db-4f11-8b5d-007edfac0a85  009c1e6fcc03ebac    UNKNOWN   \n",
              "\n",
              "        sample_id                                          directory  \\\n",
              "0          190895  /bil/data/00/9c/009c1e6fcc03ebac/mouseID_19022...   \n",
              "3          191178  /bil/data/00/9c/009c1e6fcc03ebac/mouseID_19032...   \n",
              "4          190896  /bil/data/00/9c/009c1e6fcc03ebac/mouseID_19022...   \n",
              "8          191180  /bil/data/00/9c/009c1e6fcc03ebac/mouseID_19032...   \n",
              "9          190897  /bil/data/00/9c/009c1e6fcc03ebac/mouseID_19022...   \n",
              "...           ...                                                ...   \n",
              "2708749    192865  /bil/data/00/9c/009c1e6fcc03ebac/mouseID_w1905...   \n",
              "2732865    192867  /bil/data/00/9c/009c1e6fcc03ebac/mouseID_w1905...   \n",
              "2756755    192868  /bil/data/00/9c/009c1e6fcc03ebac/mouseID_w1905...   \n",
              "2780059    192869  /bil/data/00/9c/009c1e6fcc03ebac/mouseID_w1905...   \n",
              "2803697    192870  /bil/data/00/9c/009c1e6fcc03ebac/mouseID_w1905...   \n",
              "\n",
              "        file_extensions                  timestamp  \n",
              "0                   NaN 2022-10-23 21:31:29.026759  \n",
              "3                   NaN 2022-10-23 21:31:29.026759  \n",
              "4                   NaN 2022-10-23 21:31:29.026759  \n",
              "8                   NaN 2022-10-23 21:31:29.026759  \n",
              "9                   NaN 2022-10-23 21:31:29.026759  \n",
              "...                 ...                        ...  \n",
              "2708749             NaN 2022-10-23 21:31:29.026759  \n",
              "2732865             NaN 2022-10-23 21:31:29.026759  \n",
              "2756755             NaN 2022-10-23 21:31:29.026759  \n",
              "2780059             NaN 2022-10-23 21:31:29.026759  \n",
              "2803697             NaN 2022-10-23 21:31:29.026759  \n",
              "\n",
              "[3412 rows x 7 columns]"
            ],
            "text/html": [
              "\n",
              "  <div id=\"df-35f9c751-e2aa-4ac7-a2fb-5730f777f40c\">\n",
              "    <div class=\"colab-df-container\">\n",
              "      <div>\n",
              "<style scoped>\n",
              "    .dataframe tbody tr th:only-of-type {\n",
              "        vertical-align: middle;\n",
              "    }\n",
              "\n",
              "    .dataframe tbody tr th {\n",
              "        vertical-align: top;\n",
              "    }\n",
              "\n",
              "    .dataframe thead th {\n",
              "        text-align: right;\n",
              "    }\n",
              "</style>\n",
              "<table border=\"1\" class=\"dataframe\">\n",
              "  <thead>\n",
              "    <tr style=\"text-align: right;\">\n",
              "      <th></th>\n",
              "      <th>dataset_uuid</th>\n",
              "      <th>collection_id</th>\n",
              "      <th>dataset_id</th>\n",
              "      <th>sample_id</th>\n",
              "      <th>directory</th>\n",
              "      <th>file_extensions</th>\n",
              "      <th>timestamp</th>\n",
              "    </tr>\n",
              "  </thead>\n",
              "  <tbody>\n",
              "    <tr>\n",
              "      <th>0</th>\n",
              "      <td>3e8a5a54-23f8-42f7-a8cb-b8bd429bcefd</td>\n",
              "      <td>009c1e6fcc03ebac</td>\n",
              "      <td>UNKNOWN</td>\n",
              "      <td>190895</td>\n",
              "      <td>/bil/data/00/9c/009c1e6fcc03ebac/mouseID_19022...</td>\n",
              "      <td>NaN</td>\n",
              "      <td>2022-10-23 21:31:29.026759</td>\n",
              "    </tr>\n",
              "    <tr>\n",
              "      <th>3</th>\n",
              "      <td>4ae7710b-7d6d-4566-92fd-e527ff5c0b24</td>\n",
              "      <td>009c1e6fcc03ebac</td>\n",
              "      <td>UNKNOWN</td>\n",
              "      <td>191178</td>\n",
              "      <td>/bil/data/00/9c/009c1e6fcc03ebac/mouseID_19032...</td>\n",
              "      <td>NaN</td>\n",
              "      <td>2022-10-23 21:31:29.026759</td>\n",
              "    </tr>\n",
              "    <tr>\n",
              "      <th>4</th>\n",
              "      <td>713fe4c7-2f4d-4c59-8172-17feaaffbab9</td>\n",
              "      <td>009c1e6fcc03ebac</td>\n",
              "      <td>UNKNOWN</td>\n",
              "      <td>190896</td>\n",
              "      <td>/bil/data/00/9c/009c1e6fcc03ebac/mouseID_19022...</td>\n",
              "      <td>NaN</td>\n",
              "      <td>2022-10-23 21:31:29.026759</td>\n",
              "    </tr>\n",
              "    <tr>\n",
              "      <th>8</th>\n",
              "      <td>96a6d33a-3d29-4b3b-990c-d3e6da9cbe0b</td>\n",
              "      <td>009c1e6fcc03ebac</td>\n",
              "      <td>UNKNOWN</td>\n",
              "      <td>191180</td>\n",
              "      <td>/bil/data/00/9c/009c1e6fcc03ebac/mouseID_19032...</td>\n",
              "      <td>NaN</td>\n",
              "      <td>2022-10-23 21:31:29.026759</td>\n",
              "    </tr>\n",
              "    <tr>\n",
              "      <th>9</th>\n",
              "      <td>d137f5fd-ace5-487d-a904-8572b3a88033</td>\n",
              "      <td>009c1e6fcc03ebac</td>\n",
              "      <td>UNKNOWN</td>\n",
              "      <td>190897</td>\n",
              "      <td>/bil/data/00/9c/009c1e6fcc03ebac/mouseID_19022...</td>\n",
              "      <td>NaN</td>\n",
              "      <td>2022-10-23 21:31:29.026759</td>\n",
              "    </tr>\n",
              "    <tr>\n",
              "      <th>...</th>\n",
              "      <td>...</td>\n",
              "      <td>...</td>\n",
              "      <td>...</td>\n",
              "      <td>...</td>\n",
              "      <td>...</td>\n",
              "      <td>...</td>\n",
              "      <td>...</td>\n",
              "    </tr>\n",
              "    <tr>\n",
              "      <th>2708749</th>\n",
              "      <td>538a44a4-fd3b-448a-9fa5-2969885d3763</td>\n",
              "      <td>009c1e6fcc03ebac</td>\n",
              "      <td>UNKNOWN</td>\n",
              "      <td>192865</td>\n",
              "      <td>/bil/data/00/9c/009c1e6fcc03ebac/mouseID_w1905...</td>\n",
              "      <td>NaN</td>\n",
              "      <td>2022-10-23 21:31:29.026759</td>\n",
              "    </tr>\n",
              "    <tr>\n",
              "      <th>2732865</th>\n",
              "      <td>d6cda7f6-9026-47ed-a74c-a149c66714d8</td>\n",
              "      <td>009c1e6fcc03ebac</td>\n",
              "      <td>UNKNOWN</td>\n",
              "      <td>192867</td>\n",
              "      <td>/bil/data/00/9c/009c1e6fcc03ebac/mouseID_w1905...</td>\n",
              "      <td>NaN</td>\n",
              "      <td>2022-10-23 21:31:29.026759</td>\n",
              "    </tr>\n",
              "    <tr>\n",
              "      <th>2756755</th>\n",
              "      <td>e344082e-9a15-4a5e-9838-1096f0dca01a</td>\n",
              "      <td>009c1e6fcc03ebac</td>\n",
              "      <td>UNKNOWN</td>\n",
              "      <td>192868</td>\n",
              "      <td>/bil/data/00/9c/009c1e6fcc03ebac/mouseID_w1905...</td>\n",
              "      <td>NaN</td>\n",
              "      <td>2022-10-23 21:31:29.026759</td>\n",
              "    </tr>\n",
              "    <tr>\n",
              "      <th>2780059</th>\n",
              "      <td>a4c8cc69-f166-4537-a228-364faa8ee1e7</td>\n",
              "      <td>009c1e6fcc03ebac</td>\n",
              "      <td>UNKNOWN</td>\n",
              "      <td>192869</td>\n",
              "      <td>/bil/data/00/9c/009c1e6fcc03ebac/mouseID_w1905...</td>\n",
              "      <td>NaN</td>\n",
              "      <td>2022-10-23 21:31:29.026759</td>\n",
              "    </tr>\n",
              "    <tr>\n",
              "      <th>2803697</th>\n",
              "      <td>567044b6-31db-4f11-8b5d-007edfac0a85</td>\n",
              "      <td>009c1e6fcc03ebac</td>\n",
              "      <td>UNKNOWN</td>\n",
              "      <td>192870</td>\n",
              "      <td>/bil/data/00/9c/009c1e6fcc03ebac/mouseID_w1905...</td>\n",
              "      <td>NaN</td>\n",
              "      <td>2022-10-23 21:31:29.026759</td>\n",
              "    </tr>\n",
              "  </tbody>\n",
              "</table>\n",
              "<p>3412 rows × 7 columns</p>\n",
              "</div>\n",
              "      <button class=\"colab-df-convert\" onclick=\"convertToInteractive('df-35f9c751-e2aa-4ac7-a2fb-5730f777f40c')\"\n",
              "              title=\"Convert this dataframe to an interactive table.\"\n",
              "              style=\"display:none;\">\n",
              "        \n",
              "  <svg xmlns=\"http://www.w3.org/2000/svg\" height=\"24px\"viewBox=\"0 0 24 24\"\n",
              "       width=\"24px\">\n",
              "    <path d=\"M0 0h24v24H0V0z\" fill=\"none\"/>\n",
              "    <path d=\"M18.56 5.44l.94 2.06.94-2.06 2.06-.94-2.06-.94-.94-2.06-.94 2.06-2.06.94zm-11 1L8.5 8.5l.94-2.06 2.06-.94-2.06-.94L8.5 2.5l-.94 2.06-2.06.94zm10 10l.94 2.06.94-2.06 2.06-.94-2.06-.94-.94-2.06-.94 2.06-2.06.94z\"/><path d=\"M17.41 7.96l-1.37-1.37c-.4-.4-.92-.59-1.43-.59-.52 0-1.04.2-1.43.59L10.3 9.45l-7.72 7.72c-.78.78-.78 2.05 0 2.83L4 21.41c.39.39.9.59 1.41.59.51 0 1.02-.2 1.41-.59l7.78-7.78 2.81-2.81c.8-.78.8-2.07 0-2.86zM5.41 20L4 18.59l7.72-7.72 1.47 1.35L5.41 20z\"/>\n",
              "  </svg>\n",
              "      </button>\n",
              "      \n",
              "  <style>\n",
              "    .colab-df-container {\n",
              "      display:flex;\n",
              "      flex-wrap:wrap;\n",
              "      gap: 12px;\n",
              "    }\n",
              "\n",
              "    .colab-df-convert {\n",
              "      background-color: #E8F0FE;\n",
              "      border: none;\n",
              "      border-radius: 50%;\n",
              "      cursor: pointer;\n",
              "      display: none;\n",
              "      fill: #1967D2;\n",
              "      height: 32px;\n",
              "      padding: 0 0 0 0;\n",
              "      width: 32px;\n",
              "    }\n",
              "\n",
              "    .colab-df-convert:hover {\n",
              "      background-color: #E2EBFA;\n",
              "      box-shadow: 0px 1px 2px rgba(60, 64, 67, 0.3), 0px 1px 3px 1px rgba(60, 64, 67, 0.15);\n",
              "      fill: #174EA6;\n",
              "    }\n",
              "\n",
              "    [theme=dark] .colab-df-convert {\n",
              "      background-color: #3B4455;\n",
              "      fill: #D2E3FC;\n",
              "    }\n",
              "\n",
              "    [theme=dark] .colab-df-convert:hover {\n",
              "      background-color: #434B5C;\n",
              "      box-shadow: 0px 1px 3px 1px rgba(0, 0, 0, 0.15);\n",
              "      filter: drop-shadow(0px 1px 2px rgba(0, 0, 0, 0.3));\n",
              "      fill: #FFFFFF;\n",
              "    }\n",
              "  </style>\n",
              "\n",
              "      <script>\n",
              "        const buttonEl =\n",
              "          document.querySelector('#df-35f9c751-e2aa-4ac7-a2fb-5730f777f40c button.colab-df-convert');\n",
              "        buttonEl.style.display =\n",
              "          google.colab.kernel.accessAllowed ? 'block' : 'none';\n",
              "\n",
              "        async function convertToInteractive(key) {\n",
              "          const element = document.querySelector('#df-35f9c751-e2aa-4ac7-a2fb-5730f777f40c');\n",
              "          const dataTable =\n",
              "            await google.colab.kernel.invokeFunction('convertToInteractive',\n",
              "                                                     [key], {});\n",
              "          if (!dataTable) return;\n",
              "\n",
              "          const docLinkHtml = 'Like what you see? Visit the ' +\n",
              "            '<a target=\"_blank\" href=https://colab.research.google.com/notebooks/data_table.ipynb>data table notebook</a>'\n",
              "            + ' to learn more about interactive tables.';\n",
              "          element.innerHTML = '';\n",
              "          dataTable['output_type'] = 'display_data';\n",
              "          await google.colab.output.renderOutput(dataTable, element);\n",
              "          const docLink = document.createElement('div');\n",
              "          docLink.innerHTML = docLinkHtml;\n",
              "          element.appendChild(docLink);\n",
              "        }\n",
              "      </script>\n",
              "    </div>\n",
              "  </div>\n",
              "  "
            ]
          },
          "metadata": {},
          "execution_count": 17
        }
      ]
    },
    {
      "cell_type": "markdown",
      "id": "355755af-3f61-4092-86be-dc71b237f0c8",
      "metadata": {
        "id": "355755af-3f61-4092-86be-dc71b237f0c8"
      },
      "source": [
        "import warnings\n",
        "warnings.filterwarnings(\"ignore\")b. For each dataset in the first dataframe, count the number of file extensions.\n",
        "\n",
        "i. Store these values as JSON in the column `file_extensions`. For example, if a dataset has 100 `.tif`s and 1000 `.jpeg`s, then you should store the string `{'tif':100,'jpeg':1000 }`.\n",
        "\n",
        "ii. If a dataset has a file extension that is `None` or `Nan` store it as `other`. For example, `{'tif':100,'jpeg':1000, 'other':4 }`."
      ]
    },
    {
      "cell_type": "code",
      "execution_count": null,
      "id": "e38647cd-666f-4e9f-9c7a-63a886c615f3",
      "metadata": {
        "id": "e38647cd-666f-4e9f-9c7a-63a886c615f3"
      },
      "outputs": [],
      "source": [
        "import warnings\n",
        "warnings.filterwarnings(\"ignore\")"
      ]
    },
    {
      "cell_type": "code",
      "execution_count": null,
      "id": "a1c21e45-01f7-4875-bf38-7d16548944c1",
      "metadata": {
        "colab": {
          "base_uri": "https://localhost:8080/",
          "height": 49,
          "referenced_widgets": [
            "afb6466fe31d412db1ef8815e1487614",
            "bc91f41b89114106a1f4d37a8c5bbc42",
            "0c8b173591544321a1b36435ec88d9ed",
            "eaa8b1675c4b4c69bb81ec7795d09404",
            "5438338bbcd9401f98204e41a791ebea",
            "a2979d141cb5415cb580aa71a2bf5921",
            "f861a49923ed4d84afb9b72a9184a467",
            "2692eeda74a94a06bfc00efd4cc7f820",
            "9c7a6ca4b655420ba824c70c34799abe",
            "93416a01a8a8471a9a741aa10a1115e1",
            "92bd1d8c82fd447ca38e10013f0560a4"
          ]
        },
        "id": "a1c21e45-01f7-4875-bf38-7d16548944c1",
        "outputId": "e2f0bbb2-ca1a-4ed4-d29c-d022efeb8020"
      },
      "outputs": [
        {
          "output_type": "display_data",
          "data": {
            "text/plain": [
              "  0%|          | 0/3412 [00:00<?, ?it/s]"
            ],
            "application/vnd.jupyter.widget-view+json": {
              "version_major": 2,
              "version_minor": 0,
              "model_id": "afb6466fe31d412db1ef8815e1487614"
            }
          },
          "metadata": {}
        }
      ],
      "source": [
        "## JSON code to be inserted\n",
        "def check_null(s):\n",
        "    if str(s) == 'nan' or s==None:\n",
        "        return True\n",
        "    else:\n",
        "        return False\n",
        "\n",
        "temp_file = 'tempQ2.tsv'\n",
        "\n",
        "if Path(temp_file).exists():                         \n",
        "    df2 = pd.read_csv(temp_file, sep='\\t', low_memory=False)\n",
        "else: \n",
        "    # if temp_file does not exist, populate df2['file_extensions']\n",
        "    exts = []\n",
        "    for i in tqdm(df['dataset_uuid'].unique()):\n",
        "        #print(i)\n",
        "        df_temp = df[df['dataset_uuid']==i]\n",
        "        df_temp['file_extension'] = df_temp['file_extension'].apply(lambda f: 'other' if check_null(f) else f)\n",
        "        extensions = str(df_temp['file_extension'].value_counts().to_json())\n",
        "        #print(extensions)\n",
        "        exts.append(extensions)\n",
        "    df2['file_extensions'] = exts\n"
      ]
    },
    {
      "cell_type": "code",
      "execution_count": null,
      "id": "a788442d-c88d-4571-943b-f24e4669c7e9",
      "metadata": {
        "colab": {
          "base_uri": "https://localhost:8080/",
          "height": 424
        },
        "id": "a788442d-c88d-4571-943b-f24e4669c7e9",
        "outputId": "9c2a092d-db74-4d4c-9f3c-bf475c3ef72d"
      },
      "outputs": [
        {
          "output_type": "execute_result",
          "data": {
            "text/plain": [
              "                                 dataset_uuid     collection_id dataset_id  \\\n",
              "0        3e8a5a54-23f8-42f7-a8cb-b8bd429bcefd  009c1e6fcc03ebac    UNKNOWN   \n",
              "3        4ae7710b-7d6d-4566-92fd-e527ff5c0b24  009c1e6fcc03ebac    UNKNOWN   \n",
              "4        713fe4c7-2f4d-4c59-8172-17feaaffbab9  009c1e6fcc03ebac    UNKNOWN   \n",
              "8        96a6d33a-3d29-4b3b-990c-d3e6da9cbe0b  009c1e6fcc03ebac    UNKNOWN   \n",
              "9        d137f5fd-ace5-487d-a904-8572b3a88033  009c1e6fcc03ebac    UNKNOWN   \n",
              "...                                       ...               ...        ...   \n",
              "2708749  538a44a4-fd3b-448a-9fa5-2969885d3763  009c1e6fcc03ebac    UNKNOWN   \n",
              "2732865  d6cda7f6-9026-47ed-a74c-a149c66714d8  009c1e6fcc03ebac    UNKNOWN   \n",
              "2756755  e344082e-9a15-4a5e-9838-1096f0dca01a  009c1e6fcc03ebac    UNKNOWN   \n",
              "2780059  a4c8cc69-f166-4537-a228-364faa8ee1e7  009c1e6fcc03ebac    UNKNOWN   \n",
              "2803697  567044b6-31db-4f11-8b5d-007edfac0a85  009c1e6fcc03ebac    UNKNOWN   \n",
              "\n",
              "        sample_id                                          directory  \\\n",
              "0          190895  /bil/data/00/9c/009c1e6fcc03ebac/mouseID_19022...   \n",
              "3          191178  /bil/data/00/9c/009c1e6fcc03ebac/mouseID_19032...   \n",
              "4          190896  /bil/data/00/9c/009c1e6fcc03ebac/mouseID_19022...   \n",
              "8          191180  /bil/data/00/9c/009c1e6fcc03ebac/mouseID_19032...   \n",
              "9          190897  /bil/data/00/9c/009c1e6fcc03ebac/mouseID_19022...   \n",
              "...           ...                                                ...   \n",
              "2708749    192865  /bil/data/00/9c/009c1e6fcc03ebac/mouseID_w1905...   \n",
              "2732865    192867  /bil/data/00/9c/009c1e6fcc03ebac/mouseID_w1905...   \n",
              "2756755    192868  /bil/data/00/9c/009c1e6fcc03ebac/mouseID_w1905...   \n",
              "2780059    192869  /bil/data/00/9c/009c1e6fcc03ebac/mouseID_w1905...   \n",
              "2803697    192870  /bil/data/00/9c/009c1e6fcc03ebac/mouseID_w1905...   \n",
              "\n",
              "                        file_extensions                  timestamp  \n",
              "0        {\".txt\":1,\".json\":1,\"other\":1} 2022-10-23 21:31:29.026759  \n",
              "3        {\".txt\":2,\"other\":1,\".json\":1} 2022-10-23 21:31:29.026759  \n",
              "4        {\".txt\":2,\".json\":1,\"other\":1} 2022-10-23 21:31:29.026759  \n",
              "8        {\".txt\":2,\"other\":1,\".json\":1} 2022-10-23 21:31:29.026759  \n",
              "9        {\".txt\":2,\".json\":1,\"other\":1} 2022-10-23 21:31:29.026759  \n",
              "...                                 ...                        ...  \n",
              "2708749                  {\".tif\":24116} 2022-10-23 21:31:29.026759  \n",
              "2732865                  {\".tif\":23890} 2022-10-23 21:31:29.026759  \n",
              "2756755                  {\".tif\":23304} 2022-10-23 21:31:29.026759  \n",
              "2780059                  {\".tif\":23638} 2022-10-23 21:31:29.026759  \n",
              "2803697                  {\".tif\":22173} 2022-10-23 21:31:29.026759  \n",
              "\n",
              "[3412 rows x 7 columns]"
            ],
            "text/html": [
              "\n",
              "  <div id=\"df-5c4d8f1e-f84e-442a-830f-8e56ee60ed62\">\n",
              "    <div class=\"colab-df-container\">\n",
              "      <div>\n",
              "<style scoped>\n",
              "    .dataframe tbody tr th:only-of-type {\n",
              "        vertical-align: middle;\n",
              "    }\n",
              "\n",
              "    .dataframe tbody tr th {\n",
              "        vertical-align: top;\n",
              "    }\n",
              "\n",
              "    .dataframe thead th {\n",
              "        text-align: right;\n",
              "    }\n",
              "</style>\n",
              "<table border=\"1\" class=\"dataframe\">\n",
              "  <thead>\n",
              "    <tr style=\"text-align: right;\">\n",
              "      <th></th>\n",
              "      <th>dataset_uuid</th>\n",
              "      <th>collection_id</th>\n",
              "      <th>dataset_id</th>\n",
              "      <th>sample_id</th>\n",
              "      <th>directory</th>\n",
              "      <th>file_extensions</th>\n",
              "      <th>timestamp</th>\n",
              "    </tr>\n",
              "  </thead>\n",
              "  <tbody>\n",
              "    <tr>\n",
              "      <th>0</th>\n",
              "      <td>3e8a5a54-23f8-42f7-a8cb-b8bd429bcefd</td>\n",
              "      <td>009c1e6fcc03ebac</td>\n",
              "      <td>UNKNOWN</td>\n",
              "      <td>190895</td>\n",
              "      <td>/bil/data/00/9c/009c1e6fcc03ebac/mouseID_19022...</td>\n",
              "      <td>{\".txt\":1,\".json\":1,\"other\":1}</td>\n",
              "      <td>2022-10-23 21:31:29.026759</td>\n",
              "    </tr>\n",
              "    <tr>\n",
              "      <th>3</th>\n",
              "      <td>4ae7710b-7d6d-4566-92fd-e527ff5c0b24</td>\n",
              "      <td>009c1e6fcc03ebac</td>\n",
              "      <td>UNKNOWN</td>\n",
              "      <td>191178</td>\n",
              "      <td>/bil/data/00/9c/009c1e6fcc03ebac/mouseID_19032...</td>\n",
              "      <td>{\".txt\":2,\"other\":1,\".json\":1}</td>\n",
              "      <td>2022-10-23 21:31:29.026759</td>\n",
              "    </tr>\n",
              "    <tr>\n",
              "      <th>4</th>\n",
              "      <td>713fe4c7-2f4d-4c59-8172-17feaaffbab9</td>\n",
              "      <td>009c1e6fcc03ebac</td>\n",
              "      <td>UNKNOWN</td>\n",
              "      <td>190896</td>\n",
              "      <td>/bil/data/00/9c/009c1e6fcc03ebac/mouseID_19022...</td>\n",
              "      <td>{\".txt\":2,\".json\":1,\"other\":1}</td>\n",
              "      <td>2022-10-23 21:31:29.026759</td>\n",
              "    </tr>\n",
              "    <tr>\n",
              "      <th>8</th>\n",
              "      <td>96a6d33a-3d29-4b3b-990c-d3e6da9cbe0b</td>\n",
              "      <td>009c1e6fcc03ebac</td>\n",
              "      <td>UNKNOWN</td>\n",
              "      <td>191180</td>\n",
              "      <td>/bil/data/00/9c/009c1e6fcc03ebac/mouseID_19032...</td>\n",
              "      <td>{\".txt\":2,\"other\":1,\".json\":1}</td>\n",
              "      <td>2022-10-23 21:31:29.026759</td>\n",
              "    </tr>\n",
              "    <tr>\n",
              "      <th>9</th>\n",
              "      <td>d137f5fd-ace5-487d-a904-8572b3a88033</td>\n",
              "      <td>009c1e6fcc03ebac</td>\n",
              "      <td>UNKNOWN</td>\n",
              "      <td>190897</td>\n",
              "      <td>/bil/data/00/9c/009c1e6fcc03ebac/mouseID_19022...</td>\n",
              "      <td>{\".txt\":2,\".json\":1,\"other\":1}</td>\n",
              "      <td>2022-10-23 21:31:29.026759</td>\n",
              "    </tr>\n",
              "    <tr>\n",
              "      <th>...</th>\n",
              "      <td>...</td>\n",
              "      <td>...</td>\n",
              "      <td>...</td>\n",
              "      <td>...</td>\n",
              "      <td>...</td>\n",
              "      <td>...</td>\n",
              "      <td>...</td>\n",
              "    </tr>\n",
              "    <tr>\n",
              "      <th>2708749</th>\n",
              "      <td>538a44a4-fd3b-448a-9fa5-2969885d3763</td>\n",
              "      <td>009c1e6fcc03ebac</td>\n",
              "      <td>UNKNOWN</td>\n",
              "      <td>192865</td>\n",
              "      <td>/bil/data/00/9c/009c1e6fcc03ebac/mouseID_w1905...</td>\n",
              "      <td>{\".tif\":24116}</td>\n",
              "      <td>2022-10-23 21:31:29.026759</td>\n",
              "    </tr>\n",
              "    <tr>\n",
              "      <th>2732865</th>\n",
              "      <td>d6cda7f6-9026-47ed-a74c-a149c66714d8</td>\n",
              "      <td>009c1e6fcc03ebac</td>\n",
              "      <td>UNKNOWN</td>\n",
              "      <td>192867</td>\n",
              "      <td>/bil/data/00/9c/009c1e6fcc03ebac/mouseID_w1905...</td>\n",
              "      <td>{\".tif\":23890}</td>\n",
              "      <td>2022-10-23 21:31:29.026759</td>\n",
              "    </tr>\n",
              "    <tr>\n",
              "      <th>2756755</th>\n",
              "      <td>e344082e-9a15-4a5e-9838-1096f0dca01a</td>\n",
              "      <td>009c1e6fcc03ebac</td>\n",
              "      <td>UNKNOWN</td>\n",
              "      <td>192868</td>\n",
              "      <td>/bil/data/00/9c/009c1e6fcc03ebac/mouseID_w1905...</td>\n",
              "      <td>{\".tif\":23304}</td>\n",
              "      <td>2022-10-23 21:31:29.026759</td>\n",
              "    </tr>\n",
              "    <tr>\n",
              "      <th>2780059</th>\n",
              "      <td>a4c8cc69-f166-4537-a228-364faa8ee1e7</td>\n",
              "      <td>009c1e6fcc03ebac</td>\n",
              "      <td>UNKNOWN</td>\n",
              "      <td>192869</td>\n",
              "      <td>/bil/data/00/9c/009c1e6fcc03ebac/mouseID_w1905...</td>\n",
              "      <td>{\".tif\":23638}</td>\n",
              "      <td>2022-10-23 21:31:29.026759</td>\n",
              "    </tr>\n",
              "    <tr>\n",
              "      <th>2803697</th>\n",
              "      <td>567044b6-31db-4f11-8b5d-007edfac0a85</td>\n",
              "      <td>009c1e6fcc03ebac</td>\n",
              "      <td>UNKNOWN</td>\n",
              "      <td>192870</td>\n",
              "      <td>/bil/data/00/9c/009c1e6fcc03ebac/mouseID_w1905...</td>\n",
              "      <td>{\".tif\":22173}</td>\n",
              "      <td>2022-10-23 21:31:29.026759</td>\n",
              "    </tr>\n",
              "  </tbody>\n",
              "</table>\n",
              "<p>3412 rows × 7 columns</p>\n",
              "</div>\n",
              "      <button class=\"colab-df-convert\" onclick=\"convertToInteractive('df-5c4d8f1e-f84e-442a-830f-8e56ee60ed62')\"\n",
              "              title=\"Convert this dataframe to an interactive table.\"\n",
              "              style=\"display:none;\">\n",
              "        \n",
              "  <svg xmlns=\"http://www.w3.org/2000/svg\" height=\"24px\"viewBox=\"0 0 24 24\"\n",
              "       width=\"24px\">\n",
              "    <path d=\"M0 0h24v24H0V0z\" fill=\"none\"/>\n",
              "    <path d=\"M18.56 5.44l.94 2.06.94-2.06 2.06-.94-2.06-.94-.94-2.06-.94 2.06-2.06.94zm-11 1L8.5 8.5l.94-2.06 2.06-.94-2.06-.94L8.5 2.5l-.94 2.06-2.06.94zm10 10l.94 2.06.94-2.06 2.06-.94-2.06-.94-.94-2.06-.94 2.06-2.06.94z\"/><path d=\"M17.41 7.96l-1.37-1.37c-.4-.4-.92-.59-1.43-.59-.52 0-1.04.2-1.43.59L10.3 9.45l-7.72 7.72c-.78.78-.78 2.05 0 2.83L4 21.41c.39.39.9.59 1.41.59.51 0 1.02-.2 1.41-.59l7.78-7.78 2.81-2.81c.8-.78.8-2.07 0-2.86zM5.41 20L4 18.59l7.72-7.72 1.47 1.35L5.41 20z\"/>\n",
              "  </svg>\n",
              "      </button>\n",
              "      \n",
              "  <style>\n",
              "    .colab-df-container {\n",
              "      display:flex;\n",
              "      flex-wrap:wrap;\n",
              "      gap: 12px;\n",
              "    }\n",
              "\n",
              "    .colab-df-convert {\n",
              "      background-color: #E8F0FE;\n",
              "      border: none;\n",
              "      border-radius: 50%;\n",
              "      cursor: pointer;\n",
              "      display: none;\n",
              "      fill: #1967D2;\n",
              "      height: 32px;\n",
              "      padding: 0 0 0 0;\n",
              "      width: 32px;\n",
              "    }\n",
              "\n",
              "    .colab-df-convert:hover {\n",
              "      background-color: #E2EBFA;\n",
              "      box-shadow: 0px 1px 2px rgba(60, 64, 67, 0.3), 0px 1px 3px 1px rgba(60, 64, 67, 0.15);\n",
              "      fill: #174EA6;\n",
              "    }\n",
              "\n",
              "    [theme=dark] .colab-df-convert {\n",
              "      background-color: #3B4455;\n",
              "      fill: #D2E3FC;\n",
              "    }\n",
              "\n",
              "    [theme=dark] .colab-df-convert:hover {\n",
              "      background-color: #434B5C;\n",
              "      box-shadow: 0px 1px 3px 1px rgba(0, 0, 0, 0.15);\n",
              "      filter: drop-shadow(0px 1px 2px rgba(0, 0, 0, 0.3));\n",
              "      fill: #FFFFFF;\n",
              "    }\n",
              "  </style>\n",
              "\n",
              "      <script>\n",
              "        const buttonEl =\n",
              "          document.querySelector('#df-5c4d8f1e-f84e-442a-830f-8e56ee60ed62 button.colab-df-convert');\n",
              "        buttonEl.style.display =\n",
              "          google.colab.kernel.accessAllowed ? 'block' : 'none';\n",
              "\n",
              "        async function convertToInteractive(key) {\n",
              "          const element = document.querySelector('#df-5c4d8f1e-f84e-442a-830f-8e56ee60ed62');\n",
              "          const dataTable =\n",
              "            await google.colab.kernel.invokeFunction('convertToInteractive',\n",
              "                                                     [key], {});\n",
              "          if (!dataTable) return;\n",
              "\n",
              "          const docLinkHtml = 'Like what you see? Visit the ' +\n",
              "            '<a target=\"_blank\" href=https://colab.research.google.com/notebooks/data_table.ipynb>data table notebook</a>'\n",
              "            + ' to learn more about interactive tables.';\n",
              "          element.innerHTML = '';\n",
              "          dataTable['output_type'] = 'display_data';\n",
              "          await google.colab.output.renderOutput(dataTable, element);\n",
              "          const docLink = document.createElement('div');\n",
              "          docLink.innerHTML = docLinkHtml;\n",
              "          element.appendChild(docLink);\n",
              "        }\n",
              "      </script>\n",
              "    </div>\n",
              "  </div>\n",
              "  "
            ]
          },
          "metadata": {},
          "execution_count": 20
        }
      ],
      "source": [
        "df2"
      ]
    },
    {
      "cell_type": "code",
      "execution_count": null,
      "id": "f5950733-93ff-45bd-b093-8db95bc652cc",
      "metadata": {
        "id": "f5950733-93ff-45bd-b093-8db95bc652cc"
      },
      "outputs": [],
      "source": [
        "# for a certain value in 1 particular column, count the occurence of each value in a column\n",
        "# df['dataset_uuid'] = df.groupby(['dataset_uuid']).dataset_uuid.transform(lambda x: uuid.uuid4())\n",
        "# dfgrp = df.groupby(['collection_id','sample_id','directory'])\n",
        "# df['file_extension'].value_counts(dropna=False).to_json()"
      ]
    },
    {
      "cell_type": "code",
      "execution_count": null,
      "id": "158b67c1-8f5b-47f1-a8ff-46af159f5756",
      "metadata": {
        "id": "158b67c1-8f5b-47f1-a8ff-46af159f5756"
      },
      "outputs": [],
      "source": [
        "# df['file_extension'].value_counts(dropna=False)"
      ]
    },
    {
      "cell_type": "code",
      "execution_count": null,
      "id": "09b0fe75-d5ea-4b9e-89a9-ddc6a1cab43d",
      "metadata": {
        "id": "09b0fe75-d5ea-4b9e-89a9-ddc6a1cab43d"
      },
      "outputs": [],
      "source": [
        "# https://stackoverflow.com/questions/48344087/get-the-count-for-each-subgroup-in-a-multiple-grouped-pandas-dateframe-aggregate"
      ]
    },
    {
      "cell_type": "markdown",
      "id": "aa4b393a-f7cd-42ca-b6db-7e7c75123b66",
      "metadata": {
        "id": "aa4b393a-f7cd-42ca-b6db-7e7c75123b66"
      },
      "source": [
        "c. Save the dataframe to disk as a pickle file and as a tsv file. Save it to `datasets.tsv` and `datasets.pkl`."
      ]
    },
    {
      "cell_type": "code",
      "execution_count": null,
      "id": "5324aa67-9b36-4a50-8eb0-fe6edbd06378",
      "metadata": {
        "id": "5324aa67-9b36-4a50-8eb0-fe6edbd06378"
      },
      "outputs": [],
      "source": [
        "#INSERT CODE HERE\n",
        "import pickle\n",
        "handle = open('datasets.pkl', 'wb')\n",
        "pickle.dump(df2, handle, protocol=pickle.HIGHEST_PROTOCOL)\n",
        "handle.close()\n",
        "\n",
        "df.to_csv('datasets.tsv`',sep='\\t',index=False)"
      ]
    },
    {
      "cell_type": "markdown",
      "id": "de4e2af4-0e5c-479f-afdb-8a7efbced120",
      "metadata": {
        "id": "de4e2af4-0e5c-479f-afdb-8a7efbced120"
      },
      "source": [
        "## Exercise 3\n",
        "a. Create another dataframe with columns `['timestamp', 'number_of_datasets', 'number_of_collections', 'number_of_files', 'file_extensions']`.\n",
        "\n",
        "i. Timestamp records the current date, not the time, e.g. 2022-01-23.\n",
        "\n",
        "ii. The number of datasets in the `datasets` dataframe goes in `number_of_datasets`.\n",
        "\n",
        "iii. The number of unique collections in the `datasets` dataframe goes in `number_of_collections`.\n",
        "\n",
        "iv. The total number of files in the `manifest` dataframe goes in `number_of_files`.\n",
        "\n",
        "v. Another tricky one. Aggregate all the file extensions in column `file_extensions` in dataframe `datasets`, collect these as a single JSON block and it to `file_extensions` in this dataframe."
      ]
    },
    {
      "cell_type": "code",
      "execution_count": null,
      "id": "7c5ec420-a9ff-422c-8f11-acf26e5e4b1d",
      "metadata": {
        "id": "7c5ec420-a9ff-422c-8f11-acf26e5e4b1d"
      },
      "outputs": [],
      "source": [
        "from datetime import date "
      ]
    },
    {
      "cell_type": "code",
      "execution_count": null,
      "id": "bad3aa71-e8cd-4a5b-a652-511ca156b854",
      "metadata": {
        "id": "bad3aa71-e8cd-4a5b-a652-511ca156b854"
      },
      "outputs": [],
      "source": [
        "#INSERT CODE HERE\n",
        "df3 = pd.DataFrame(columns=['timestamp', 'number_of_datasets', 'number_of_collections', 'number_of_files', 'file_extensions'])\n",
        "df3.loc[0,'number_of_datasets']= df2['dataset_uuid'].nunique()\n",
        "df3.loc[0,'number_of_collections'] = df2['collection_id'].nunique()\n",
        "df3.loc[0,'number_of_files'] = df['filepath'].nunique()\n",
        "\n",
        "df['file_extension'] = df['file_extension'].apply(lambda f: 'other' if check_null(f) else f)\n",
        "df3.loc[0,'file_extensions'] = str(df['file_extension'].value_counts().to_json())\n",
        "\n",
        "df3['timestamp'] = date.today()"
      ]
    },
    {
      "cell_type": "code",
      "source": [
        "df3"
      ],
      "metadata": {
        "colab": {
          "base_uri": "https://localhost:8080/",
          "height": 81
        },
        "id": "VzBxfgDNASBl",
        "outputId": "73e76608-3085-4944-af60-facfa68360b3"
      },
      "id": "VzBxfgDNASBl",
      "execution_count": null,
      "outputs": [
        {
          "output_type": "execute_result",
          "data": {
            "text/plain": [
              "    timestamp number_of_datasets number_of_collections number_of_files  \\\n",
              "0  2022-10-23               3411                   761         2825295   \n",
              "\n",
              "                                     file_extensions  \n",
              "0  {\".tif\":1327631,\".ktx\":658657,\".jp2\":432628,\"....  "
            ],
            "text/html": [
              "\n",
              "  <div id=\"df-d47a1618-0e4e-4a30-9eea-9156e7c09542\">\n",
              "    <div class=\"colab-df-container\">\n",
              "      <div>\n",
              "<style scoped>\n",
              "    .dataframe tbody tr th:only-of-type {\n",
              "        vertical-align: middle;\n",
              "    }\n",
              "\n",
              "    .dataframe tbody tr th {\n",
              "        vertical-align: top;\n",
              "    }\n",
              "\n",
              "    .dataframe thead th {\n",
              "        text-align: right;\n",
              "    }\n",
              "</style>\n",
              "<table border=\"1\" class=\"dataframe\">\n",
              "  <thead>\n",
              "    <tr style=\"text-align: right;\">\n",
              "      <th></th>\n",
              "      <th>timestamp</th>\n",
              "      <th>number_of_datasets</th>\n",
              "      <th>number_of_collections</th>\n",
              "      <th>number_of_files</th>\n",
              "      <th>file_extensions</th>\n",
              "    </tr>\n",
              "  </thead>\n",
              "  <tbody>\n",
              "    <tr>\n",
              "      <th>0</th>\n",
              "      <td>2022-10-23</td>\n",
              "      <td>3411</td>\n",
              "      <td>761</td>\n",
              "      <td>2825295</td>\n",
              "      <td>{\".tif\":1327631,\".ktx\":658657,\".jp2\":432628,\"....</td>\n",
              "    </tr>\n",
              "  </tbody>\n",
              "</table>\n",
              "</div>\n",
              "      <button class=\"colab-df-convert\" onclick=\"convertToInteractive('df-d47a1618-0e4e-4a30-9eea-9156e7c09542')\"\n",
              "              title=\"Convert this dataframe to an interactive table.\"\n",
              "              style=\"display:none;\">\n",
              "        \n",
              "  <svg xmlns=\"http://www.w3.org/2000/svg\" height=\"24px\"viewBox=\"0 0 24 24\"\n",
              "       width=\"24px\">\n",
              "    <path d=\"M0 0h24v24H0V0z\" fill=\"none\"/>\n",
              "    <path d=\"M18.56 5.44l.94 2.06.94-2.06 2.06-.94-2.06-.94-.94-2.06-.94 2.06-2.06.94zm-11 1L8.5 8.5l.94-2.06 2.06-.94-2.06-.94L8.5 2.5l-.94 2.06-2.06.94zm10 10l.94 2.06.94-2.06 2.06-.94-2.06-.94-.94-2.06-.94 2.06-2.06.94z\"/><path d=\"M17.41 7.96l-1.37-1.37c-.4-.4-.92-.59-1.43-.59-.52 0-1.04.2-1.43.59L10.3 9.45l-7.72 7.72c-.78.78-.78 2.05 0 2.83L4 21.41c.39.39.9.59 1.41.59.51 0 1.02-.2 1.41-.59l7.78-7.78 2.81-2.81c.8-.78.8-2.07 0-2.86zM5.41 20L4 18.59l7.72-7.72 1.47 1.35L5.41 20z\"/>\n",
              "  </svg>\n",
              "      </button>\n",
              "      \n",
              "  <style>\n",
              "    .colab-df-container {\n",
              "      display:flex;\n",
              "      flex-wrap:wrap;\n",
              "      gap: 12px;\n",
              "    }\n",
              "\n",
              "    .colab-df-convert {\n",
              "      background-color: #E8F0FE;\n",
              "      border: none;\n",
              "      border-radius: 50%;\n",
              "      cursor: pointer;\n",
              "      display: none;\n",
              "      fill: #1967D2;\n",
              "      height: 32px;\n",
              "      padding: 0 0 0 0;\n",
              "      width: 32px;\n",
              "    }\n",
              "\n",
              "    .colab-df-convert:hover {\n",
              "      background-color: #E2EBFA;\n",
              "      box-shadow: 0px 1px 2px rgba(60, 64, 67, 0.3), 0px 1px 3px 1px rgba(60, 64, 67, 0.15);\n",
              "      fill: #174EA6;\n",
              "    }\n",
              "\n",
              "    [theme=dark] .colab-df-convert {\n",
              "      background-color: #3B4455;\n",
              "      fill: #D2E3FC;\n",
              "    }\n",
              "\n",
              "    [theme=dark] .colab-df-convert:hover {\n",
              "      background-color: #434B5C;\n",
              "      box-shadow: 0px 1px 3px 1px rgba(0, 0, 0, 0.15);\n",
              "      filter: drop-shadow(0px 1px 2px rgba(0, 0, 0, 0.3));\n",
              "      fill: #FFFFFF;\n",
              "    }\n",
              "  </style>\n",
              "\n",
              "      <script>\n",
              "        const buttonEl =\n",
              "          document.querySelector('#df-d47a1618-0e4e-4a30-9eea-9156e7c09542 button.colab-df-convert');\n",
              "        buttonEl.style.display =\n",
              "          google.colab.kernel.accessAllowed ? 'block' : 'none';\n",
              "\n",
              "        async function convertToInteractive(key) {\n",
              "          const element = document.querySelector('#df-d47a1618-0e4e-4a30-9eea-9156e7c09542');\n",
              "          const dataTable =\n",
              "            await google.colab.kernel.invokeFunction('convertToInteractive',\n",
              "                                                     [key], {});\n",
              "          if (!dataTable) return;\n",
              "\n",
              "          const docLinkHtml = 'Like what you see? Visit the ' +\n",
              "            '<a target=\"_blank\" href=https://colab.research.google.com/notebooks/data_table.ipynb>data table notebook</a>'\n",
              "            + ' to learn more about interactive tables.';\n",
              "          element.innerHTML = '';\n",
              "          dataTable['output_type'] = 'display_data';\n",
              "          await google.colab.output.renderOutput(dataTable, element);\n",
              "          const docLink = document.createElement('div');\n",
              "          docLink.innerHTML = docLinkHtml;\n",
              "          element.appendChild(docLink);\n",
              "        }\n",
              "      </script>\n",
              "    </div>\n",
              "  </div>\n",
              "  "
            ]
          },
          "metadata": {},
          "execution_count": 37
        }
      ]
    },
    {
      "cell_type": "markdown",
      "id": "01c3a707-53f7-4223-b81b-7f7eea7efc66",
      "metadata": {
        "id": "01c3a707-53f7-4223-b81b-7f7eea7efc66"
      },
      "source": [
        "b. Save the dataframe to disk as a pickle file and as a tsv file. Save it to `info.tsv` and `info.pkl`."
      ]
    },
    {
      "cell_type": "code",
      "execution_count": null,
      "id": "0f43b113-ee1b-4caf-9796-e93d4f49a26e",
      "metadata": {
        "id": "0f43b113-ee1b-4caf-9796-e93d4f49a26e"
      },
      "outputs": [],
      "source": [
        "#INSERT CODE HERE\n",
        "handle = open('info.pkl', 'wb')\n",
        "pickle.dump(df3, handle, protocol=pickle.HIGHEST_PROTOCOL)\n",
        "handle.close()\n",
        "\n",
        "df3.to_csv('info.tsv',sep='\\t',index=False)"
      ]
    },
    {
      "cell_type": "markdown",
      "id": "f73b4520-6ee1-4515-8598-56bf6f025642",
      "metadata": {
        "id": "f73b4520-6ee1-4515-8598-56bf6f025642"
      },
      "source": [
        "## Exercise 4\n",
        "Create some pretty plots and embed them in this notebook. Feel free to use any plotting library in Python. Make them pretty though. \n",
        "\n",
        "a. Waffleplot. Create a waffleplot from the column `file_extensions` in the dataframe `info`. \n",
        "\n",
        "* Title should be the date in `timestamp`.\n",
        "* No axis labels.\n",
        "* Add legend.\n",
        "\n",
        "**Hints***\n",
        "* Use `pywaffle`."
      ]
    },
    {
      "cell_type": "code",
      "source": [
        "!pip install pywaffle"
      ],
      "metadata": {
        "colab": {
          "base_uri": "https://localhost:8080/"
        },
        "id": "yVvzpNuyCa8R",
        "outputId": "4165a543-fe94-4c60-e64a-e967f5f972d5"
      },
      "id": "yVvzpNuyCa8R",
      "execution_count": null,
      "outputs": [
        {
          "output_type": "stream",
          "name": "stdout",
          "text": [
            "Looking in indexes: https://pypi.org/simple, https://us-python.pkg.dev/colab-wheels/public/simple/\n",
            "Collecting pywaffle\n",
            "  Downloading pywaffle-1.1.0-py2.py3-none-any.whl (30 kB)\n",
            "Collecting fontawesomefree\n",
            "  Downloading fontawesomefree-6.2.0-py3-none-any.whl (25.1 MB)\n",
            "\u001b[K     |████████████████████████████████| 25.1 MB 58.4 MB/s \n",
            "\u001b[?25hRequirement already satisfied: matplotlib in /usr/local/lib/python3.7/dist-packages (from pywaffle) (3.2.2)\n",
            "Requirement already satisfied: numpy>=1.11 in /usr/local/lib/python3.7/dist-packages (from matplotlib->pywaffle) (1.21.6)\n",
            "Requirement already satisfied: pyparsing!=2.0.4,!=2.1.2,!=2.1.6,>=2.0.1 in /usr/local/lib/python3.7/dist-packages (from matplotlib->pywaffle) (3.0.9)\n",
            "Requirement already satisfied: kiwisolver>=1.0.1 in /usr/local/lib/python3.7/dist-packages (from matplotlib->pywaffle) (1.4.4)\n",
            "Requirement already satisfied: python-dateutil>=2.1 in /usr/local/lib/python3.7/dist-packages (from matplotlib->pywaffle) (2.8.2)\n",
            "Requirement already satisfied: cycler>=0.10 in /usr/local/lib/python3.7/dist-packages (from matplotlib->pywaffle) (0.11.0)\n",
            "Requirement already satisfied: typing-extensions in /usr/local/lib/python3.7/dist-packages (from kiwisolver>=1.0.1->matplotlib->pywaffle) (4.1.1)\n",
            "Requirement already satisfied: six>=1.5 in /usr/local/lib/python3.7/dist-packages (from python-dateutil>=2.1->matplotlib->pywaffle) (1.15.0)\n",
            "Installing collected packages: fontawesomefree, pywaffle\n",
            "Successfully installed fontawesomefree-6.2.0 pywaffle-1.1.0\n"
          ]
        }
      ]
    },
    {
      "cell_type": "code",
      "execution_count": null,
      "id": "041033c6-5955-4289-9b67-6d3a92a32082",
      "metadata": {
        "id": "041033c6-5955-4289-9b67-6d3a92a32082"
      },
      "outputs": [],
      "source": [
        "from pywaffle import Waffle"
      ]
    },
    {
      "cell_type": "code",
      "execution_count": null,
      "id": "8f0a6e92-65e5-40bc-9a89-0242fb7c6298",
      "metadata": {
        "id": "8f0a6e92-65e5-40bc-9a89-0242fb7c6298"
      },
      "outputs": [],
      "source": [
        "file = 'info.tsv'\n",
        "if Path(file).exists():\n",
        "    df4a = pd.read_csv(file,sep='\\t')\n",
        "else:\n",
        "    print('file does not exists')"
      ]
    },
    {
      "cell_type": "code",
      "source": [
        "# load json library\n",
        "import json\n",
        "\n",
        "string = df3['file_extensions'][0]\n",
        "\n",
        "# convert string to  object\n",
        "d = json.loads(string)\n",
        "\n",
        "# convert json to dataframe\n",
        "Extension = pd.DataFrame.from_dict(d, orient='index', columns=['count']).reset_index() # pd.read_json(json_obj, orient ='index')\n",
        "Extension.rename(columns={\"index\": \"file_extension\"},inplace=True)\n",
        "\n",
        "# reduce the count numbers so that they can fit into the waffle plot\n",
        "Extension['reduce'] = round(Extension['count']/1000)\n",
        "print(Extension)"
      ],
      "metadata": {
        "colab": {
          "base_uri": "https://localhost:8080/"
        },
        "id": "3wLEOhf5gzou",
        "outputId": "08de9a24-bf6a-4924-908a-d532f8e3805e"
      },
      "id": "3wLEOhf5gzou",
      "execution_count": null,
      "outputs": [
        {
          "output_type": "stream",
          "name": "stdout",
          "text": [
            "     file_extension    count  reduce\n",
            "0              .tif  1327631  1328.0\n",
            "1              .ktx   658657   659.0\n",
            "2              .jp2   432628   433.0\n",
            "3              .swc   270720   271.0\n",
            "4              .ims    65107    65.0\n",
            "5       .microscope    22030    22.0\n",
            "6      .acquisition    22030    22.0\n",
            "7              .txt    16672    17.0\n",
            "8              .raw     3237     3.0\n",
            "9             other     1654     2.0\n",
            "10             .xml     1555     2.0\n",
            "11             .bat      942     1.0\n",
            "12          .marker      736     1.0\n",
            "13             .SWC      679     1.0\n",
            "14             .png      464     0.0\n",
            "15            .json      176     0.0\n",
            "16             .jpg      156     0.0\n",
            "17              .db      147     0.0\n",
            "18             .csv      139     0.0\n",
            "19             .nd2       77     0.0\n",
            "20             .dat       71     0.0\n",
            "21          .master       47     0.0\n",
            "22             .nii       47     0.0\n",
            "23        .finished       46     0.0\n",
            "24             .bin       28     0.0\n",
            "25          .format       26     0.0\n",
            "26             .pos       21     0.0\n",
            "27             .czi       20     0.0\n",
            "28             .zip       12     0.0\n",
            "29              .7z       10     0.0\n",
            "30             .mat       10     0.0\n",
            "31          .sample        9     0.0\n",
            "32              .jl        8     0.0\n",
            "33              .py        8     0.0\n",
            "34             .yml        7     0.0\n",
            "35             .log        7     0.0\n",
            "36             .ano        6     0.0\n",
            "37             .pyc        6     0.0\n",
            "38             .apo        6     0.0\n",
            "39            .eswc        6     0.0\n",
            "40           .fasta        4     0.0\n",
            "41              .gz        4     0.0\n",
            "42            .xlsx        3     0.0\n",
            "43             .ini        3     0.0\n",
            "44            .jld2        3     0.0\n",
            "45             .pdf        3     0.0\n",
            "46              .md        2     0.0\n",
            "47              .sh        2     0.0\n",
            "48            .last        2     0.0\n",
            "49             .TAG        1     0.0\n",
            "50            .pack        1     0.0\n",
            "51             .idx        1     0.0\n",
            "52  .db_encryptable        1     0.0\n",
            "53            .h5ad        1     0.0\n",
            "54             .sh~        1     0.0\n"
          ]
        }
      ]
    },
    {
      "cell_type": "code",
      "execution_count": null,
      "id": "40443223-850c-4d8f-8c39-1da4b16c0c4a",
      "metadata": {
        "colab": {
          "base_uri": "https://localhost:8080/",
          "height": 1000
        },
        "id": "40443223-850c-4d8f-8c39-1da4b16c0c4a",
        "outputId": "b5e68ea3-45b9-452b-b1cc-dd3982fcbf56"
      },
      "outputs": [
        {
          "output_type": "display_data",
          "data": {
            "text/plain": [
              "<Waffle size 2160x2160 with 1 Axes>"
            ],
            "image/png": "[encoded data removed]"
          },
          "metadata": {
            "needs_background": "light"
          }
        }
      ],
      "source": [
        "#INSERT CODE HERE\n",
        "fig = plt.figure(\n",
        "    figsize=(30, 30),\n",
        "    FigureClass = Waffle,\n",
        "    rows = 50,\n",
        "    values = sorted(list(Extension['reduce']),reverse = True),\n",
        "    labels = sorted(list(Extension['file_extension']),reverse = True),\n",
        "    legend={'loc': 'upper right', 'bbox_to_anchor': (1.1, 1)},\n",
        "    cmap_name=\"tab20\",\n",
        "    title = {'label':df3['timestamp'][0],'fontsize':18}\n",
        ")"
      ]
    },
    {
      "cell_type": "markdown",
      "id": "743d9451-4d90-476e-bc87-0ca1b1eb69c6",
      "metadata": {
        "id": "743d9451-4d90-476e-bc87-0ca1b1eb69c6"
      },
      "source": [
        "b. Histogram. Make a histogram using the column `download_ready` from the dataframe `manifest`. \n",
        "\n",
        "* Set title to `Broken links`\n",
        "* Values set to `False` should be labeled as `Broken`.\n",
        "* Values set to `True` should be labeled as `Not Broken`.\n",
        "* No legend.\n",
        "* Set y-label to `Number of links`"
      ]
    },
    {
      "cell_type": "code",
      "execution_count": null,
      "id": "8513a3e5-0f25-4b30-bfcb-0a4ec20e66e4",
      "metadata": {
        "id": "8513a3e5-0f25-4b30-bfcb-0a4ec20e66e4"
      },
      "outputs": [],
      "source": [
        "file = '/content/drive/MyDrive/38610/Modern Programming for Data Science/Coursework/Project/manifest.tsv'\n",
        "if Path(file).exists():\n",
        "    df4b = pd.read_csv(file,sep='\\t')\n",
        "else:\n",
        "    print('file does not exists')\n",
        "# df4c.head()"
      ]
    },
    {
      "cell_type": "code",
      "execution_count": null,
      "id": "2317cea2-3823-4164-a00d-f669dd575f16",
      "metadata": {
        "colab": {
          "base_uri": "https://localhost:8080/",
          "height": 499
        },
        "id": "2317cea2-3823-4164-a00d-f669dd575f16",
        "outputId": "5292dc88-68ec-464d-a1e3-19264934409c"
      },
      "outputs": [
        {
          "output_type": "display_data",
          "data": {
            "text/plain": [
              "<Figure size 432x576 with 1 Axes>"
            ],
            "image/png": "[encoded data removed]"
          },
          "metadata": {
            "needs_background": "light"
          }
        }
      ],
      "source": [
        "#INSERT CODE HERE\n",
        "import seaborn as sns\n",
        "import matplotlib.pyplot as plt\n",
        "\n",
        "# Initialize figure size\n",
        "plt.figure(figsize = ( 6 , 8))\n",
        "  \n",
        "# Plot histogram\n",
        "fig = sns.histplot(data=df4b, stat='count', x='download_ready',bins=2)\n",
        "fig.set(xlabel=None)\n",
        "fig.set_xticks([0.25, 0.75])\n",
        "fig.set(xticklabels=['Broken','Not Broken'])\n",
        "#fig.tick_params(bottom=False) \n",
        "fig.set(ylabel='Number of links')\n",
        "fig.set(title='Broken links')\n",
        "\n",
        "# Display figure\n",
        "plt.show()"
      ]
    },
    {
      "cell_type": "markdown",
      "id": "342b3d80-f63e-451f-b0b4-f363ac066ce5",
      "metadata": {
        "id": "342b3d80-f63e-451f-b0b4-f363ac066ce5"
      },
      "source": [
        "c. Pie chart. Create a pie chart using the values in `status_code` in the dataframe `manifest`. \n",
        "\n",
        "* Title should be `Status codes`.\n",
        "* Add legends."
      ]
    },
    {
      "cell_type": "code",
      "execution_count": null,
      "id": "f537d14f-01c6-4d43-a42d-e646db41aca2",
      "metadata": {
        "id": "f537d14f-01c6-4d43-a42d-e646db41aca2"
      },
      "outputs": [],
      "source": [
        "file = '/content/drive/MyDrive/38610/Modern Programming for Data Science/Coursework/Project/manifest.tsv'\n",
        "if Path(file).exists():\n",
        "    df4c = pd.read_csv(file,sep='\\t')\n",
        "else:\n",
        "    print('file does not exists')\n",
        "# df4c.head()"
      ]
    },
    {
      "cell_type": "code",
      "execution_count": null,
      "id": "6337c178-0705-4ea1-a5c5-65a193da41a9",
      "metadata": {
        "colab": {
          "base_uri": "https://localhost:8080/",
          "height": 798
        },
        "id": "6337c178-0705-4ea1-a5c5-65a193da41a9",
        "outputId": "f8fafe72-9a73-43ed-9690-49908f499432"
      },
      "outputs": [
        {
          "output_type": "stream",
          "name": "stdout",
          "text": [
            "   index  response_code\n",
            "0    200        1945082\n",
            "1    404           4079\n",
            "2    403            840\n"
          ]
        },
        {
          "output_type": "display_data",
          "data": {
            "text/plain": [
              "<Figure size 1008x720 with 1 Axes>"
            ],
            "image/png": "[encoded data removed]"
          },
          "metadata": {}
        }
      ],
      "source": [
        "#INSERT CODE HERE\n",
        "status = pd.DataFrame(df['response_code'].value_counts().reset_index())\n",
        "status['index'] = status['index'].apply(lambda x: int(x))\n",
        "print(status)\n",
        "\n",
        "# Set colors\n",
        "colors = ['lightskyblue', 'lightcoral', 'gold']\n",
        "\n",
        "# Create pie chart\n",
        "\n",
        "plt.figure(figsize = ( 14 , 10))\n",
        "\n",
        "labels = status['index']\n",
        "sizes = status.response_code\n",
        "patches, texts = plt.pie(sizes, colors=colors, startangle=90)\n",
        "plt.legend(patches, labels, loc=\"best\")\n",
        "plt.title('Status codes')\n",
        "plt.axis('equal')\n",
        "plt.tight_layout()\n",
        "\n",
        "plt.show()"
      ]
    },
    {
      "cell_type": "markdown",
      "id": "9ebf717a-2376-49d3-b88c-e2ce53670b5d",
      "metadata": {
        "id": "9ebf717a-2376-49d3-b88c-e2ce53670b5d"
      },
      "source": [
        "d. Create a plot using the values in `file_creation_date` in dataframe manifest. However, this exercise is open-ended. \n",
        "\n",
        "This is my user-story and your job is to create the best plot you think will show what I want.\n",
        "\n",
        "* The only part I care about the `file_create_date` is the date. Or months, or years, not sure.\n",
        "* What I want to do is to create a plot that I can show the increment of data through the years.\n",
        "* I am still debating whether I should just show how many files are available per year, or do a cumulative plot since it should be, in theory, monotonically increasing.\n",
        "\n",
        "What do you think? Make a plot, convince me your plot is the best."
      ]
    },
    {
      "cell_type": "code",
      "execution_count": null,
      "id": "d982d560-4138-4d4f-b38d-f24e80f78cdf",
      "metadata": {
        "id": "d982d560-4138-4d4f-b38d-f24e80f78cdf"
      },
      "outputs": [],
      "source": [
        "#INSERT CODE HERE\n",
        "def to_date(dt):\n",
        "    date = str(dt)[0:10]\n",
        "    return date"
      ]
    },
    {
      "cell_type": "code",
      "source": [
        "file = '/content/drive/MyDrive/38610/Modern Programming for Data Science/Coursework/Project/manifest.tsv'\n",
        "if Path(file).exists():\n",
        "  # Set up data\n",
        "  df = pd.read_csv(file, sep='\\t', low_memory=False )\n",
        "  status = pd.DataFrame(df['response_code'].value_counts().reset_index())\n",
        "  df['file_creation_date_only'] = df.apply(lambda f: to_date(f.file_creation_date),axis=1)\n",
        "  df['file_creation_date_only'] = pd.to_datetime(df['file_creation_date_only'],errors='coerce')  \n",
        "  \n",
        "  # Initialize figure size\n",
        "  plt.figure(figsize = ( 16 , 8))\n",
        "  \n",
        "  # Plot histogram\n",
        "  fig = sns.histplot(data=df, stat='count', x='file_creation_date_only',bins = 8)\n",
        "  fig.set(xlabel='Year')\n",
        "  # fig.set(xticklabels=set(df['file_creation_date_only']))\n",
        "  #fig.tick_params(bottom=False) \n",
        "  fig.set(ylabel='Number of files')\n",
        "  fig.set(title='Number of files across time')\n",
        "\n",
        "  # Display figure\n",
        "  plt.show()\n",
        "\n",
        "else:\n",
        "    print(file, ' does not exist')"
      ],
      "metadata": {
        "colab": {
          "base_uri": "https://localhost:8080/",
          "height": 513
        },
        "id": "BsATz4YX42hN",
        "outputId": "43a9e136-ae06-4a43-8293-dfc4782842e7"
      },
      "id": "BsATz4YX42hN",
      "execution_count": null,
      "outputs": [
        {
          "output_type": "display_data",
          "data": {
            "text/plain": [
              "<Figure size 1152x576 with 1 Axes>"
            ],
            "image/png": "[encoded data removed]"
          },
          "metadata": {
            "needs_background": "light"
          }
        }
      ]
    },
    {
      "cell_type": "code",
      "source": [
        "# Save figure\n",
        "pic = fig.figure\n",
        "images_dir = '/content/drive/MyDrive/38610/Modern Programming for Data Science/Coursework/Project/'\n",
        "pic.savefig(f\"{images_dir}/4d.png\")"
      ],
      "metadata": {
        "id": "UU7Z4-DZGpiJ"
      },
      "id": "UU7Z4-DZGpiJ",
      "execution_count": null,
      "outputs": []
    }
  ],
  "metadata": {
    "kernelspec": {
      "display_name": "Python 3 (ipykernel)",
      "language": "python",
      "name": "python3"
    },
    "language_info": {
      "codemirror_mode": {
        "name": "ipython",
        "version": 3
      },
      "file_extension": ".py",
      "mimetype": "text/x-python",
      "name": "python",
      "nbconvert_exporter": "python",
      "pygments_lexer": "ipython3",
      "version": "3.9.13"
    },
    "colab": {
      "provenance": [],
      "collapsed_sections": []
    },
    "widgets": {
      "application/vnd.jupyter.widget-state+json": {
        "afb6466fe31d412db1ef8815e1487614": {
          "model_module": "@jupyter-widgets/controls",
          "model_name": "HBoxModel",
          "model_module_version": "1.5.0",
          "state": {
            "_dom_classes": [],
            "_model_module": "@jupyter-widgets/controls",
            "_model_module_version": "1.5.0",
            "_model_name": "HBoxModel",
            "_view_count": null,
            "_view_module": "@jupyter-widgets/controls",
            "_view_module_version": "1.5.0",
            "_view_name": "HBoxView",
            "box_style": "",
            "children": [
              "IPY_MODEL_bc91f41b89114106a1f4d37a8c5bbc42",
              "IPY_MODEL_0c8b173591544321a1b36435ec88d9ed",
              "IPY_MODEL_eaa8b1675c4b4c69bb81ec7795d09404"
            ],
            "layout": "IPY_MODEL_5438338bbcd9401f98204e41a791ebea"
          }
        },
        "bc91f41b89114106a1f4d37a8c5bbc42": {
          "model_module": "@jupyter-widgets/controls",
          "model_name": "HTMLModel",
          "model_module_version": "1.5.0",
          "state": {
            "_dom_classes": [],
            "_model_module": "@jupyter-widgets/controls",
            "_model_module_version": "1.5.0",
            "_model_name": "HTMLModel",
            "_view_count": null,
            "_view_module": "@jupyter-widgets/controls",
            "_view_module_version": "1.5.0",
            "_view_name": "HTMLView",
            "description": "",
            "description_tooltip": null,
            "layout": "IPY_MODEL_a2979d141cb5415cb580aa71a2bf5921",
            "placeholder": "​",
            "style": "IPY_MODEL_f861a49923ed4d84afb9b72a9184a467",
            "value": "100%"
          }
        },
        "0c8b173591544321a1b36435ec88d9ed": {
          "model_module": "@jupyter-widgets/controls",
          "model_name": "FloatProgressModel",
          "model_module_version": "1.5.0",
          "state": {
            "_dom_classes": [],
            "_model_module": "@jupyter-widgets/controls",
            "_model_module_version": "1.5.0",
            "_model_name": "FloatProgressModel",
            "_view_count": null,
            "_view_module": "@jupyter-widgets/controls",
            "_view_module_version": "1.5.0",
            "_view_name": "ProgressView",
            "bar_style": "success",
            "description": "",
            "description_tooltip": null,
            "layout": "IPY_MODEL_2692eeda74a94a06bfc00efd4cc7f820",
            "max": 3412,
            "min": 0,
            "orientation": "horizontal",
            "style": "IPY_MODEL_9c7a6ca4b655420ba824c70c34799abe",
            "value": 3412
          }
        },
        "eaa8b1675c4b4c69bb81ec7795d09404": {
          "model_module": "@jupyter-widgets/controls",
          "model_name": "HTMLModel",
          "model_module_version": "1.5.0",
          "state": {
            "_dom_classes": [],
            "_model_module": "@jupyter-widgets/controls",
            "_model_module_version": "1.5.0",
            "_model_name": "HTMLModel",
            "_view_count": null,
            "_view_module": "@jupyter-widgets/controls",
            "_view_module_version": "1.5.0",
            "_view_name": "HTMLView",
            "description": "",
            "description_tooltip": null,
            "layout": "IPY_MODEL_93416a01a8a8471a9a741aa10a1115e1",
            "placeholder": "​",
            "style": "IPY_MODEL_92bd1d8c82fd447ca38e10013f0560a4",
            "value": " 3412/3412 [56:57&lt;00:00,  1.01it/s]"
          }
        },
        "5438338bbcd9401f98204e41a791ebea": {
          "model_module": "@jupyter-widgets/base",
          "model_name": "LayoutModel",
          "model_module_version": "1.2.0",
          "state": {
            "_model_module": "@jupyter-widgets/base",
            "_model_module_version": "1.2.0",
            "_model_name": "LayoutModel",
            "_view_count": null,
            "_view_module": "@jupyter-widgets/base",
            "_view_module_version": "1.2.0",
            "_view_name": "LayoutView",
            "align_content": null,
            "align_items": null,
            "align_self": null,
            "border": null,
            "bottom": null,
            "display": null,
            "flex": null,
            "flex_flow": null,
            "grid_area": null,
            "grid_auto_columns": null,
            "grid_auto_flow": null,
            "grid_auto_rows": null,
            "grid_column": null,
            "grid_gap": null,
            "grid_row": null,
            "grid_template_areas": null,
            "grid_template_columns": null,
            "grid_template_rows": null,
            "height": null,
            "justify_content": null,
            "justify_items": null,
            "left": null,
            "margin": null,
            "max_height": null,
            "max_width": null,
            "min_height": null,
            "min_width": null,
            "object_fit": null,
            "object_position": null,
            "order": null,
            "overflow": null,
            "overflow_x": null,
            "overflow_y": null,
            "padding": null,
            "right": null,
            "top": null,
            "visibility": null,
            "width": null
          }
        },
        "a2979d141cb5415cb580aa71a2bf5921": {
          "model_module": "@jupyter-widgets/base",
          "model_name": "LayoutModel",
          "model_module_version": "1.2.0",
          "state": {
            "_model_module": "@jupyter-widgets/base",
            "_model_module_version": "1.2.0",
            "_model_name": "LayoutModel",
            "_view_count": null,
            "_view_module": "@jupyter-widgets/base",
            "_view_module_version": "1.2.0",
            "_view_name": "LayoutView",
            "align_content": null,
            "align_items": null,
            "align_self": null,
            "border": null,
            "bottom": null,
            "display": null,
            "flex": null,
            "flex_flow": null,
            "grid_area": null,
            "grid_auto_columns": null,
            "grid_auto_flow": null,
            "grid_auto_rows": null,
            "grid_column": null,
            "grid_gap": null,
            "grid_row": null,
            "grid_template_areas": null,
            "grid_template_columns": null,
            "grid_template_rows": null,
            "height": null,
            "justify_content": null,
            "justify_items": null,
            "left": null,
            "margin": null,
            "max_height": null,
            "max_width": null,
            "min_height": null,
            "min_width": null,
            "object_fit": null,
            "object_position": null,
            "order": null,
            "overflow": null,
            "overflow_x": null,
            "overflow_y": null,
            "padding": null,
            "right": null,
            "top": null,
            "visibility": null,
            "width": null
          }
        },
        "f861a49923ed4d84afb9b72a9184a467": {
          "model_module": "@jupyter-widgets/controls",
          "model_name": "DescriptionStyleModel",
          "model_module_version": "1.5.0",
          "state": {
            "_model_module": "@jupyter-widgets/controls",
            "_model_module_version": "1.5.0",
            "_model_name": "DescriptionStyleModel",
            "_view_count": null,
            "_view_module": "@jupyter-widgets/base",
            "_view_module_version": "1.2.0",
            "_view_name": "StyleView",
            "description_width": ""
          }
        },
        "2692eeda74a94a06bfc00efd4cc7f820": {
          "model_module": "@jupyter-widgets/base",
          "model_name": "LayoutModel",
          "model_module_version": "1.2.0",
          "state": {
            "_model_module": "@jupyter-widgets/base",
            "_model_module_version": "1.2.0",
            "_model_name": "LayoutModel",
            "_view_count": null,
            "_view_module": "@jupyter-widgets/base",
            "_view_module_version": "1.2.0",
            "_view_name": "LayoutView",
            "align_content": null,
            "align_items": null,
            "align_self": null,
            "border": null,
            "bottom": null,
            "display": null,
            "flex": null,
            "flex_flow": null,
            "grid_area": null,
            "grid_auto_columns": null,
            "grid_auto_flow": null,
            "grid_auto_rows": null,
            "grid_column": null,
            "grid_gap": null,
            "grid_row": null,
            "grid_template_areas": null,
            "grid_template_columns": null,
            "grid_template_rows": null,
            "height": null,
            "justify_content": null,
            "justify_items": null,
            "left": null,
            "margin": null,
            "max_height": null,
            "max_width": null,
            "min_height": null,
            "min_width": null,
            "object_fit": null,
            "object_position": null,
            "order": null,
            "overflow": null,
            "overflow_x": null,
            "overflow_y": null,
            "padding": null,
            "right": null,
            "top": null,
            "visibility": null,
            "width": null
          }
        },
        "9c7a6ca4b655420ba824c70c34799abe": {
          "model_module": "@jupyter-widgets/controls",
          "model_name": "ProgressStyleModel",
          "model_module_version": "1.5.0",
          "state": {
            "_model_module": "@jupyter-widgets/controls",
            "_model_module_version": "1.5.0",
            "_model_name": "ProgressStyleModel",
            "_view_count": null,
            "_view_module": "@jupyter-widgets/base",
            "_view_module_version": "1.2.0",
            "_view_name": "StyleView",
            "bar_color": null,
            "description_width": ""
          }
        },
        "93416a01a8a8471a9a741aa10a1115e1": {
          "model_module": "@jupyter-widgets/base",
          "model_name": "LayoutModel",
          "model_module_version": "1.2.0",
          "state": {
            "_model_module": "@jupyter-widgets/base",
            "_model_module_version": "1.2.0",
            "_model_name": "LayoutModel",
            "_view_count": null,
            "_view_module": "@jupyter-widgets/base",
            "_view_module_version": "1.2.0",
            "_view_name": "LayoutView",
            "align_content": null,
            "align_items": null,
            "align_self": null,
            "border": null,
            "bottom": null,
            "display": null,
            "flex": null,
            "flex_flow": null,
            "grid_area": null,
            "grid_auto_columns": null,
            "grid_auto_flow": null,
            "grid_auto_rows": null,
            "grid_column": null,
            "grid_gap": null,
            "grid_row": null,
            "grid_template_areas": null,
            "grid_template_columns": null,
            "grid_template_rows": null,
            "height": null,
            "justify_content": null,
            "justify_items": null,
            "left": null,
            "margin": null,
            "max_height": null,
            "max_width": null,
            "min_height": null,
            "min_width": null,
            "object_fit": null,
            "object_position": null,
            "order": null,
            "overflow": null,
            "overflow_x": null,
            "overflow_y": null,
            "padding": null,
            "right": null,
            "top": null,
            "visibility": null,
            "width": null
          }
        },
        "92bd1d8c82fd447ca38e10013f0560a4": {
          "model_module": "@jupyter-widgets/controls",
          "model_name": "DescriptionStyleModel",
          "model_module_version": "1.5.0",
          "state": {
            "_model_module": "@jupyter-widgets/controls",
            "_model_module_version": "1.5.0",
            "_model_name": "DescriptionStyleModel",
            "_view_count": null,
            "_view_module": "@jupyter-widgets/base",
            "_view_module_version": "1.2.0",
            "_view_name": "StyleView",
            "description_width": ""
          }
        }
      }
    }
  },
  "nbformat": 4,
  "nbformat_minor": 5
}